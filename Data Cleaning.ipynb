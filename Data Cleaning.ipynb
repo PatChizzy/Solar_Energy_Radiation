{
 "cells": [
  {
   "cell_type": "markdown",
   "id": "744a9857",
   "metadata": {},
   "source": [
    "# Import Libraries"
   ]
  },
  {
   "cell_type": "code",
   "execution_count": 1,
   "id": "b67345b8",
   "metadata": {},
   "outputs": [],
   "source": [
    "import numpy as np\n",
    "import pandas as pd "
   ]
  },
  {
   "cell_type": "markdown",
   "id": "1f78dccd",
   "metadata": {},
   "source": [
    "# Data Wrangling\n",
    "\n"
   ]
  },
  {
   "cell_type": "code",
   "execution_count": 2,
   "id": "3893329c",
   "metadata": {},
   "outputs": [
    {
     "data": {
      "text/html": [
       "<div>\n",
       "<style scoped>\n",
       "    .dataframe tbody tr th:only-of-type {\n",
       "        vertical-align: middle;\n",
       "    }\n",
       "\n",
       "    .dataframe tbody tr th {\n",
       "        vertical-align: top;\n",
       "    }\n",
       "\n",
       "    .dataframe thead th {\n",
       "        text-align: right;\n",
       "    }\n",
       "</style>\n",
       "<table border=\"1\" class=\"dataframe\">\n",
       "  <thead>\n",
       "    <tr style=\"text-align: right;\">\n",
       "      <th></th>\n",
       "      <th>PeriodEnd</th>\n",
       "      <th>PeriodStart</th>\n",
       "      <th>Period</th>\n",
       "      <th>AirTemp</th>\n",
       "      <th>CloudOpacity</th>\n",
       "      <th>DewpointTemp</th>\n",
       "      <th>Dhi</th>\n",
       "      <th>Dni</th>\n",
       "      <th>Ebh</th>\n",
       "      <th>Ghi</th>\n",
       "      <th>PrecipitableWater</th>\n",
       "      <th>RelativeHumidity</th>\n",
       "      <th>SurfacePressure</th>\n",
       "      <th>WindDirection10m</th>\n",
       "      <th>WindSpeed10m</th>\n",
       "      <th>Zenith</th>\n",
       "    </tr>\n",
       "  </thead>\n",
       "  <tbody>\n",
       "    <tr>\n",
       "      <th>0</th>\n",
       "      <td>2016-12-31T02:00:00Z</td>\n",
       "      <td>2016-12-31T01:00:00Z</td>\n",
       "      <td>PT60M</td>\n",
       "      <td>24.2</td>\n",
       "      <td>0.0</td>\n",
       "      <td>21.5</td>\n",
       "      <td>0</td>\n",
       "      <td>0</td>\n",
       "      <td>0</td>\n",
       "      <td>0</td>\n",
       "      <td>29.1</td>\n",
       "      <td>84.5</td>\n",
       "      <td>1006.8</td>\n",
       "      <td>232</td>\n",
       "      <td>1.8</td>\n",
       "      <td>150</td>\n",
       "    </tr>\n",
       "    <tr>\n",
       "      <th>1</th>\n",
       "      <td>2016-12-31T03:00:00Z</td>\n",
       "      <td>2016-12-31T02:00:00Z</td>\n",
       "      <td>PT60M</td>\n",
       "      <td>23.4</td>\n",
       "      <td>0.0</td>\n",
       "      <td>21.3</td>\n",
       "      <td>0</td>\n",
       "      <td>0</td>\n",
       "      <td>0</td>\n",
       "      <td>0</td>\n",
       "      <td>29.1</td>\n",
       "      <td>87.9</td>\n",
       "      <td>1006.3</td>\n",
       "      <td>253</td>\n",
       "      <td>1.5</td>\n",
       "      <td>138</td>\n",
       "    </tr>\n",
       "    <tr>\n",
       "      <th>2</th>\n",
       "      <td>2016-12-31T04:00:00Z</td>\n",
       "      <td>2016-12-31T03:00:00Z</td>\n",
       "      <td>PT60M</td>\n",
       "      <td>22.8</td>\n",
       "      <td>0.0</td>\n",
       "      <td>21.1</td>\n",
       "      <td>0</td>\n",
       "      <td>0</td>\n",
       "      <td>0</td>\n",
       "      <td>0</td>\n",
       "      <td>29.2</td>\n",
       "      <td>90.2</td>\n",
       "      <td>1006.2</td>\n",
       "      <td>272</td>\n",
       "      <td>1.4</td>\n",
       "      <td>124</td>\n",
       "    </tr>\n",
       "    <tr>\n",
       "      <th>3</th>\n",
       "      <td>2016-12-31T05:00:00Z</td>\n",
       "      <td>2016-12-31T04:00:00Z</td>\n",
       "      <td>PT60M</td>\n",
       "      <td>22.4</td>\n",
       "      <td>0.0</td>\n",
       "      <td>20.9</td>\n",
       "      <td>0</td>\n",
       "      <td>0</td>\n",
       "      <td>0</td>\n",
       "      <td>0</td>\n",
       "      <td>29.3</td>\n",
       "      <td>91.2</td>\n",
       "      <td>1006.5</td>\n",
       "      <td>287</td>\n",
       "      <td>1.2</td>\n",
       "      <td>111</td>\n",
       "    </tr>\n",
       "    <tr>\n",
       "      <th>4</th>\n",
       "      <td>2016-12-31T06:00:00Z</td>\n",
       "      <td>2016-12-31T05:00:00Z</td>\n",
       "      <td>PT60M</td>\n",
       "      <td>22.1</td>\n",
       "      <td>0.0</td>\n",
       "      <td>20.8</td>\n",
       "      <td>0</td>\n",
       "      <td>0</td>\n",
       "      <td>0</td>\n",
       "      <td>0</td>\n",
       "      <td>29.4</td>\n",
       "      <td>92.1</td>\n",
       "      <td>1006.8</td>\n",
       "      <td>306</td>\n",
       "      <td>1.1</td>\n",
       "      <td>97</td>\n",
       "    </tr>\n",
       "  </tbody>\n",
       "</table>\n",
       "</div>"
      ],
      "text/plain": [
       "              PeriodEnd           PeriodStart Period  AirTemp  CloudOpacity  \\\n",
       "0  2016-12-31T02:00:00Z  2016-12-31T01:00:00Z  PT60M     24.2           0.0   \n",
       "1  2016-12-31T03:00:00Z  2016-12-31T02:00:00Z  PT60M     23.4           0.0   \n",
       "2  2016-12-31T04:00:00Z  2016-12-31T03:00:00Z  PT60M     22.8           0.0   \n",
       "3  2016-12-31T05:00:00Z  2016-12-31T04:00:00Z  PT60M     22.4           0.0   \n",
       "4  2016-12-31T06:00:00Z  2016-12-31T05:00:00Z  PT60M     22.1           0.0   \n",
       "\n",
       "   DewpointTemp  Dhi  Dni  Ebh  Ghi  PrecipitableWater  RelativeHumidity  \\\n",
       "0          21.5    0    0    0    0               29.1              84.5   \n",
       "1          21.3    0    0    0    0               29.1              87.9   \n",
       "2          21.1    0    0    0    0               29.2              90.2   \n",
       "3          20.9    0    0    0    0               29.3              91.2   \n",
       "4          20.8    0    0    0    0               29.4              92.1   \n",
       "\n",
       "   SurfacePressure  WindDirection10m  WindSpeed10m  Zenith  \n",
       "0           1006.8               232           1.8     150  \n",
       "1           1006.3               253           1.5     138  \n",
       "2           1006.2               272           1.4     124  \n",
       "3           1006.5               287           1.2     111  \n",
       "4           1006.8               306           1.1      97  "
      ]
     },
     "execution_count": 2,
     "metadata": {},
     "output_type": "execute_result"
    }
   ],
   "source": [
    "data = pd.read_csv('datasets/raw/6.524379_3.379206_Solcast_PT60M.csv')\n",
    "data.head()"
   ]
  },
  {
   "cell_type": "code",
   "execution_count": 3,
   "id": "2f92cc95-a69d-4b1e-91f9-87f31d3192d4",
   "metadata": {},
   "outputs": [
    {
     "data": {
      "text/plain": [
       "(26325, 16)"
      ]
     },
     "execution_count": 3,
     "metadata": {},
     "output_type": "execute_result"
    }
   ],
   "source": [
    "data.shape"
   ]
  },
  {
   "cell_type": "code",
   "execution_count": 4,
   "id": "555d0eac-527c-448b-bbde-ac4d344b5c16",
   "metadata": {},
   "outputs": [
    {
     "data": {
      "text/html": [
       "<div>\n",
       "<style scoped>\n",
       "    .dataframe tbody tr th:only-of-type {\n",
       "        vertical-align: middle;\n",
       "    }\n",
       "\n",
       "    .dataframe tbody tr th {\n",
       "        vertical-align: top;\n",
       "    }\n",
       "\n",
       "    .dataframe thead th {\n",
       "        text-align: right;\n",
       "    }\n",
       "</style>\n",
       "<table border=\"1\" class=\"dataframe\">\n",
       "  <thead>\n",
       "    <tr style=\"text-align: right;\">\n",
       "      <th></th>\n",
       "      <th>AirTemp</th>\n",
       "      <th>CloudOpacity</th>\n",
       "      <th>DewpointTemp</th>\n",
       "      <th>Dhi</th>\n",
       "      <th>Dni</th>\n",
       "      <th>Ebh</th>\n",
       "      <th>Ghi</th>\n",
       "      <th>PrecipitableWater</th>\n",
       "      <th>RelativeHumidity</th>\n",
       "      <th>SurfacePressure</th>\n",
       "      <th>WindDirection10m</th>\n",
       "      <th>WindSpeed10m</th>\n",
       "      <th>Zenith</th>\n",
       "    </tr>\n",
       "  </thead>\n",
       "  <tbody>\n",
       "    <tr>\n",
       "      <th>count</th>\n",
       "      <td>26325.000000</td>\n",
       "      <td>26325.000000</td>\n",
       "      <td>26325.000000</td>\n",
       "      <td>26325.000000</td>\n",
       "      <td>26325.000000</td>\n",
       "      <td>26325.000000</td>\n",
       "      <td>26325.000000</td>\n",
       "      <td>26325.000000</td>\n",
       "      <td>26325.000000</td>\n",
       "      <td>26325.000000</td>\n",
       "      <td>26325.000000</td>\n",
       "      <td>26325.000000</td>\n",
       "      <td>26325.000000</td>\n",
       "    </tr>\n",
       "    <tr>\n",
       "      <th>mean</th>\n",
       "      <td>26.735236</td>\n",
       "      <td>23.816775</td>\n",
       "      <td>23.230370</td>\n",
       "      <td>128.637569</td>\n",
       "      <td>83.611662</td>\n",
       "      <td>60.851662</td>\n",
       "      <td>189.491358</td>\n",
       "      <td>49.570868</td>\n",
       "      <td>81.915198</td>\n",
       "      <td>1007.859495</td>\n",
       "      <td>226.407483</td>\n",
       "      <td>2.641542</td>\n",
       "      <td>89.933105</td>\n",
       "    </tr>\n",
       "    <tr>\n",
       "      <th>std</th>\n",
       "      <td>1.986150</td>\n",
       "      <td>26.731491</td>\n",
       "      <td>1.465923</td>\n",
       "      <td>172.337933</td>\n",
       "      <td>166.982046</td>\n",
       "      <td>134.150126</td>\n",
       "      <td>264.854175</td>\n",
       "      <td>8.089445</td>\n",
       "      <td>10.176722</td>\n",
       "      <td>2.408360</td>\n",
       "      <td>40.936265</td>\n",
       "      <td>1.239591</td>\n",
       "      <td>47.081511</td>\n",
       "    </tr>\n",
       "    <tr>\n",
       "      <th>min</th>\n",
       "      <td>21.000000</td>\n",
       "      <td>0.000000</td>\n",
       "      <td>5.700000</td>\n",
       "      <td>0.000000</td>\n",
       "      <td>0.000000</td>\n",
       "      <td>0.000000</td>\n",
       "      <td>0.000000</td>\n",
       "      <td>15.800000</td>\n",
       "      <td>20.400000</td>\n",
       "      <td>1001.300000</td>\n",
       "      <td>0.000000</td>\n",
       "      <td>0.000000</td>\n",
       "      <td>5.000000</td>\n",
       "    </tr>\n",
       "    <tr>\n",
       "      <th>25%</th>\n",
       "      <td>25.300000</td>\n",
       "      <td>0.000000</td>\n",
       "      <td>22.600000</td>\n",
       "      <td>0.000000</td>\n",
       "      <td>0.000000</td>\n",
       "      <td>0.000000</td>\n",
       "      <td>0.000000</td>\n",
       "      <td>45.800000</td>\n",
       "      <td>76.300000</td>\n",
       "      <td>1006.100000</td>\n",
       "      <td>210.000000</td>\n",
       "      <td>1.800000</td>\n",
       "      <td>48.000000</td>\n",
       "    </tr>\n",
       "    <tr>\n",
       "      <th>50%</th>\n",
       "      <td>26.500000</td>\n",
       "      <td>13.400000</td>\n",
       "      <td>23.400000</td>\n",
       "      <td>7.000000</td>\n",
       "      <td>0.000000</td>\n",
       "      <td>0.000000</td>\n",
       "      <td>7.000000</td>\n",
       "      <td>51.700000</td>\n",
       "      <td>84.100000</td>\n",
       "      <td>1007.600000</td>\n",
       "      <td>228.000000</td>\n",
       "      <td>2.400000</td>\n",
       "      <td>91.000000</td>\n",
       "    </tr>\n",
       "    <tr>\n",
       "      <th>75%</th>\n",
       "      <td>28.000000</td>\n",
       "      <td>45.000000</td>\n",
       "      <td>24.100000</td>\n",
       "      <td>248.000000</td>\n",
       "      <td>70.000000</td>\n",
       "      <td>32.000000</td>\n",
       "      <td>355.000000</td>\n",
       "      <td>55.300000</td>\n",
       "      <td>89.600000</td>\n",
       "      <td>1009.500000</td>\n",
       "      <td>245.000000</td>\n",
       "      <td>3.200000</td>\n",
       "      <td>132.000000</td>\n",
       "    </tr>\n",
       "    <tr>\n",
       "      <th>max</th>\n",
       "      <td>33.100000</td>\n",
       "      <td>99.500000</td>\n",
       "      <td>26.900000</td>\n",
       "      <td>643.000000</td>\n",
       "      <td>855.000000</td>\n",
       "      <td>829.000000</td>\n",
       "      <td>986.000000</td>\n",
       "      <td>66.900000</td>\n",
       "      <td>98.400000</td>\n",
       "      <td>1016.900000</td>\n",
       "      <td>360.000000</td>\n",
       "      <td>9.900000</td>\n",
       "      <td>176.000000</td>\n",
       "    </tr>\n",
       "  </tbody>\n",
       "</table>\n",
       "</div>"
      ],
      "text/plain": [
       "            AirTemp  CloudOpacity  DewpointTemp           Dhi           Dni  \\\n",
       "count  26325.000000  26325.000000  26325.000000  26325.000000  26325.000000   \n",
       "mean      26.735236     23.816775     23.230370    128.637569     83.611662   \n",
       "std        1.986150     26.731491      1.465923    172.337933    166.982046   \n",
       "min       21.000000      0.000000      5.700000      0.000000      0.000000   \n",
       "25%       25.300000      0.000000     22.600000      0.000000      0.000000   \n",
       "50%       26.500000     13.400000     23.400000      7.000000      0.000000   \n",
       "75%       28.000000     45.000000     24.100000    248.000000     70.000000   \n",
       "max       33.100000     99.500000     26.900000    643.000000    855.000000   \n",
       "\n",
       "                Ebh           Ghi  PrecipitableWater  RelativeHumidity  \\\n",
       "count  26325.000000  26325.000000       26325.000000      26325.000000   \n",
       "mean      60.851662    189.491358          49.570868         81.915198   \n",
       "std      134.150126    264.854175           8.089445         10.176722   \n",
       "min        0.000000      0.000000          15.800000         20.400000   \n",
       "25%        0.000000      0.000000          45.800000         76.300000   \n",
       "50%        0.000000      7.000000          51.700000         84.100000   \n",
       "75%       32.000000    355.000000          55.300000         89.600000   \n",
       "max      829.000000    986.000000          66.900000         98.400000   \n",
       "\n",
       "       SurfacePressure  WindDirection10m  WindSpeed10m        Zenith  \n",
       "count     26325.000000      26325.000000  26325.000000  26325.000000  \n",
       "mean       1007.859495        226.407483      2.641542     89.933105  \n",
       "std           2.408360         40.936265      1.239591     47.081511  \n",
       "min        1001.300000          0.000000      0.000000      5.000000  \n",
       "25%        1006.100000        210.000000      1.800000     48.000000  \n",
       "50%        1007.600000        228.000000      2.400000     91.000000  \n",
       "75%        1009.500000        245.000000      3.200000    132.000000  \n",
       "max        1016.900000        360.000000      9.900000    176.000000  "
      ]
     },
     "execution_count": 4,
     "metadata": {},
     "output_type": "execute_result"
    }
   ],
   "source": [
    "data.describe()"
   ]
  },
  {
   "cell_type": "code",
   "execution_count": 5,
   "id": "0268e38a-4a7c-4fb5-aa3b-df0cdc1eb1a9",
   "metadata": {},
   "outputs": [
    {
     "name": "stdout",
     "output_type": "stream",
     "text": [
      "<class 'pandas.core.frame.DataFrame'>\n",
      "RangeIndex: 26325 entries, 0 to 26324\n",
      "Data columns (total 16 columns):\n",
      " #   Column             Non-Null Count  Dtype  \n",
      "---  ------             --------------  -----  \n",
      " 0   PeriodEnd          26325 non-null  object \n",
      " 1   PeriodStart        26325 non-null  object \n",
      " 2   Period             26325 non-null  object \n",
      " 3   AirTemp            26325 non-null  float64\n",
      " 4   CloudOpacity       26325 non-null  float64\n",
      " 5   DewpointTemp       26325 non-null  float64\n",
      " 6   Dhi                26325 non-null  int64  \n",
      " 7   Dni                26325 non-null  int64  \n",
      " 8   Ebh                26325 non-null  int64  \n",
      " 9   Ghi                26325 non-null  int64  \n",
      " 10  PrecipitableWater  26325 non-null  float64\n",
      " 11  RelativeHumidity   26325 non-null  float64\n",
      " 12  SurfacePressure    26325 non-null  float64\n",
      " 13  WindDirection10m   26325 non-null  int64  \n",
      " 14  WindSpeed10m       26325 non-null  float64\n",
      " 15  Zenith             26325 non-null  int64  \n",
      "dtypes: float64(7), int64(6), object(3)\n",
      "memory usage: 3.2+ MB\n"
     ]
    }
   ],
   "source": [
    "data.info()"
   ]
  },
  {
   "cell_type": "code",
   "execution_count": 6,
   "id": "d252b07d-5f95-4393-a843-6c2efef00a84",
   "metadata": {},
   "outputs": [
    {
     "data": {
      "text/plain": [
       "Index(['PeriodEnd', 'PeriodStart', 'Period', 'AirTemp', 'CloudOpacity',\n",
       "       'DewpointTemp', 'Dhi', 'Dni', 'Ebh', 'Ghi', 'PrecipitableWater',\n",
       "       'RelativeHumidity', 'SurfacePressure', 'WindDirection10m',\n",
       "       'WindSpeed10m', 'Zenith'],\n",
       "      dtype='object')"
      ]
     },
     "execution_count": 6,
     "metadata": {},
     "output_type": "execute_result"
    }
   ],
   "source": [
    "data.columns"
   ]
  },
  {
   "cell_type": "code",
   "execution_count": 7,
   "id": "154338fc-da73-4122-b85b-224edec5c57f",
   "metadata": {},
   "outputs": [
    {
     "data": {
      "text/plain": [
       "(26325, 16)"
      ]
     },
     "execution_count": 7,
     "metadata": {},
     "output_type": "execute_result"
    }
   ],
   "source": [
    "data.shape"
   ]
  },
  {
   "cell_type": "markdown",
   "id": "45cebea6-7a85-4a1c-b0bf-2823e6fa3b4a",
   "metadata": {},
   "source": [
    "# Feature Engineering"
   ]
  },
  {
   "cell_type": "markdown",
   "id": "cd26c014-21cb-402d-b4e5-be07e8ba2537",
   "metadata": {},
   "source": [
    "### Renaming column headers"
   ]
  },
  {
   "cell_type": "code",
   "execution_count": 8,
   "id": "74f2098a-5ad7-4bac-a703-8e0aa910e454",
   "metadata": {},
   "outputs": [
    {
     "data": {
      "text/plain": [
       "Index(['PeriodEnd', 'PeriodStart', 'Period', 'AirTemp', 'CloudOpacity',\n",
       "       'DewpointTemp', 'Dhi', 'Dni', 'Ebh', 'Ghi', 'PrecipitableWater',\n",
       "       'RelativeHumidity', 'SurfacePressure', 'WindDirection10m',\n",
       "       'WindSpeed10m', 'Zenith'],\n",
       "      dtype='object')"
      ]
     },
     "execution_count": 8,
     "metadata": {},
     "output_type": "execute_result"
    }
   ],
   "source": [
    "data.columns"
   ]
  },
  {
   "cell_type": "code",
   "execution_count": 9,
   "id": "6969bfa0-66bf-43e6-8652-6897224c3ae1",
   "metadata": {},
   "outputs": [],
   "source": [
    "old_names = ['PeriodEnd', 'PeriodStart', 'Period', 'AirTemp', 'CloudOpacity',\n",
    "       'DewpointTemp', 'Dhi', 'Dni', 'Ebh', 'Ghi', 'PrecipitableWater',\n",
    "       'RelativeHumidity', 'SurfacePressure', 'WindDirection10m',\n",
    "       'WindSpeed10m', 'Zenith']\n",
    "\n",
    "new_names = ['PeriodEnd', 'PeriodStart', 'Period', 'Temperature', 'CloudOpacity',\n",
    "       'DewpointTemp', 'DHI', 'DNI', 'EBH', 'Radiation', 'Precipitation',\n",
    "       'Humidity', 'Pressure', 'WindDirection',\n",
    "       'WindSpeed', 'Zenith']\n",
    "\n",
    "data.rename(columns = dict(zip(old_names, new_names)), inplace = True)"
   ]
  },
  {
   "cell_type": "code",
   "execution_count": 10,
   "id": "68cb38df-149b-4862-b31f-11e3bd6914ae",
   "metadata": {},
   "outputs": [
    {
     "data": {
      "text/html": [
       "<div>\n",
       "<style scoped>\n",
       "    .dataframe tbody tr th:only-of-type {\n",
       "        vertical-align: middle;\n",
       "    }\n",
       "\n",
       "    .dataframe tbody tr th {\n",
       "        vertical-align: top;\n",
       "    }\n",
       "\n",
       "    .dataframe thead th {\n",
       "        text-align: right;\n",
       "    }\n",
       "</style>\n",
       "<table border=\"1\" class=\"dataframe\">\n",
       "  <thead>\n",
       "    <tr style=\"text-align: right;\">\n",
       "      <th></th>\n",
       "      <th>PeriodEnd</th>\n",
       "      <th>PeriodStart</th>\n",
       "      <th>Period</th>\n",
       "      <th>Temperature</th>\n",
       "      <th>CloudOpacity</th>\n",
       "      <th>DewpointTemp</th>\n",
       "      <th>DHI</th>\n",
       "      <th>DNI</th>\n",
       "      <th>EBH</th>\n",
       "      <th>Radiation</th>\n",
       "      <th>Precipitation</th>\n",
       "      <th>Humidity</th>\n",
       "      <th>Pressure</th>\n",
       "      <th>WindDirection</th>\n",
       "      <th>WindSpeed</th>\n",
       "      <th>Zenith</th>\n",
       "    </tr>\n",
       "  </thead>\n",
       "  <tbody>\n",
       "    <tr>\n",
       "      <th>0</th>\n",
       "      <td>2016-12-31T02:00:00Z</td>\n",
       "      <td>2016-12-31T01:00:00Z</td>\n",
       "      <td>PT60M</td>\n",
       "      <td>24.2</td>\n",
       "      <td>0.0</td>\n",
       "      <td>21.5</td>\n",
       "      <td>0</td>\n",
       "      <td>0</td>\n",
       "      <td>0</td>\n",
       "      <td>0</td>\n",
       "      <td>29.1</td>\n",
       "      <td>84.5</td>\n",
       "      <td>1006.8</td>\n",
       "      <td>232</td>\n",
       "      <td>1.8</td>\n",
       "      <td>150</td>\n",
       "    </tr>\n",
       "    <tr>\n",
       "      <th>1</th>\n",
       "      <td>2016-12-31T03:00:00Z</td>\n",
       "      <td>2016-12-31T02:00:00Z</td>\n",
       "      <td>PT60M</td>\n",
       "      <td>23.4</td>\n",
       "      <td>0.0</td>\n",
       "      <td>21.3</td>\n",
       "      <td>0</td>\n",
       "      <td>0</td>\n",
       "      <td>0</td>\n",
       "      <td>0</td>\n",
       "      <td>29.1</td>\n",
       "      <td>87.9</td>\n",
       "      <td>1006.3</td>\n",
       "      <td>253</td>\n",
       "      <td>1.5</td>\n",
       "      <td>138</td>\n",
       "    </tr>\n",
       "  </tbody>\n",
       "</table>\n",
       "</div>"
      ],
      "text/plain": [
       "              PeriodEnd           PeriodStart Period  Temperature  \\\n",
       "0  2016-12-31T02:00:00Z  2016-12-31T01:00:00Z  PT60M         24.2   \n",
       "1  2016-12-31T03:00:00Z  2016-12-31T02:00:00Z  PT60M         23.4   \n",
       "\n",
       "   CloudOpacity  DewpointTemp  DHI  DNI  EBH  Radiation  Precipitation  \\\n",
       "0           0.0          21.5    0    0    0          0           29.1   \n",
       "1           0.0          21.3    0    0    0          0           29.1   \n",
       "\n",
       "   Humidity  Pressure  WindDirection  WindSpeed  Zenith  \n",
       "0      84.5    1006.8            232        1.8     150  \n",
       "1      87.9    1006.3            253        1.5     138  "
      ]
     },
     "execution_count": 10,
     "metadata": {},
     "output_type": "execute_result"
    }
   ],
   "source": [
    "data.head(2)"
   ]
  },
  {
   "cell_type": "code",
   "execution_count": 11,
   "id": "aab927c4-9851-4d79-b9f2-3238b802c4dd",
   "metadata": {},
   "outputs": [
    {
     "name": "stdout",
     "output_type": "stream",
     "text": [
      "<class 'pandas.core.frame.DataFrame'>\n",
      "RangeIndex: 26325 entries, 0 to 26324\n",
      "Data columns (total 16 columns):\n",
      " #   Column         Non-Null Count  Dtype  \n",
      "---  ------         --------------  -----  \n",
      " 0   PeriodEnd      26325 non-null  object \n",
      " 1   PeriodStart    26325 non-null  object \n",
      " 2   Period         26325 non-null  object \n",
      " 3   Temperature    26325 non-null  float64\n",
      " 4   CloudOpacity   26325 non-null  float64\n",
      " 5   DewpointTemp   26325 non-null  float64\n",
      " 6   DHI            26325 non-null  int64  \n",
      " 7   DNI            26325 non-null  int64  \n",
      " 8   EBH            26325 non-null  int64  \n",
      " 9   Radiation      26325 non-null  int64  \n",
      " 10  Precipitation  26325 non-null  float64\n",
      " 11  Humidity       26325 non-null  float64\n",
      " 12  Pressure       26325 non-null  float64\n",
      " 13  WindDirection  26325 non-null  int64  \n",
      " 14  WindSpeed      26325 non-null  float64\n",
      " 15  Zenith         26325 non-null  int64  \n",
      "dtypes: float64(7), int64(6), object(3)\n",
      "memory usage: 3.2+ MB\n"
     ]
    }
   ],
   "source": [
    "data.info()"
   ]
  },
  {
   "cell_type": "markdown",
   "id": "835767fd-95a2-49d2-b765-84d913b7c9e8",
   "metadata": {},
   "source": [
    "### convert the periods datatype to datatime"
   ]
  },
  {
   "cell_type": "code",
   "execution_count": 12,
   "id": "7c17f6b9-a1b2-41a7-b280-cacc7f5f11e0",
   "metadata": {},
   "outputs": [
    {
     "name": "stderr",
     "output_type": "stream",
     "text": [
      "C:\\Users\\chizo\\anaconda3\\lib\\site-packages\\pandas\\core\\arrays\\datetimes.py:1101: UserWarning: Converting to PeriodArray/Index representation will drop timezone information.\n",
      "  warnings.warn(\n"
     ]
    }
   ],
   "source": [
    "data['PeriodStart'] = pd.to_datetime(data['PeriodStart']).dt.to_period('T').dt.to_timestamp()\n",
    "data['PeriodEnd'] = pd.to_datetime(data['PeriodEnd']).dt.to_period('T').dt.to_timestamp()"
   ]
  },
  {
   "cell_type": "code",
   "execution_count": 13,
   "id": "0daa2f1c-de6e-41e3-856c-1f8efaa55e7a",
   "metadata": {},
   "outputs": [
    {
     "name": "stdout",
     "output_type": "stream",
     "text": [
      "<class 'pandas.core.frame.DataFrame'>\n",
      "RangeIndex: 26325 entries, 0 to 26324\n",
      "Data columns (total 16 columns):\n",
      " #   Column         Non-Null Count  Dtype         \n",
      "---  ------         --------------  -----         \n",
      " 0   PeriodEnd      26325 non-null  datetime64[ns]\n",
      " 1   PeriodStart    26325 non-null  datetime64[ns]\n",
      " 2   Period         26325 non-null  object        \n",
      " 3   Temperature    26325 non-null  float64       \n",
      " 4   CloudOpacity   26325 non-null  float64       \n",
      " 5   DewpointTemp   26325 non-null  float64       \n",
      " 6   DHI            26325 non-null  int64         \n",
      " 7   DNI            26325 non-null  int64         \n",
      " 8   EBH            26325 non-null  int64         \n",
      " 9   Radiation      26325 non-null  int64         \n",
      " 10  Precipitation  26325 non-null  float64       \n",
      " 11  Humidity       26325 non-null  float64       \n",
      " 12  Pressure       26325 non-null  float64       \n",
      " 13  WindDirection  26325 non-null  int64         \n",
      " 14  WindSpeed      26325 non-null  float64       \n",
      " 15  Zenith         26325 non-null  int64         \n",
      "dtypes: datetime64[ns](2), float64(7), int64(6), object(1)\n",
      "memory usage: 3.2+ MB\n"
     ]
    }
   ],
   "source": [
    "data.info()"
   ]
  },
  {
   "cell_type": "code",
   "execution_count": 14,
   "id": "f08ce94d-a7f8-4e39-ba2c-d547539afca0",
   "metadata": {},
   "outputs": [
    {
     "data": {
      "text/html": [
       "<div>\n",
       "<style scoped>\n",
       "    .dataframe tbody tr th:only-of-type {\n",
       "        vertical-align: middle;\n",
       "    }\n",
       "\n",
       "    .dataframe tbody tr th {\n",
       "        vertical-align: top;\n",
       "    }\n",
       "\n",
       "    .dataframe thead th {\n",
       "        text-align: right;\n",
       "    }\n",
       "</style>\n",
       "<table border=\"1\" class=\"dataframe\">\n",
       "  <thead>\n",
       "    <tr style=\"text-align: right;\">\n",
       "      <th></th>\n",
       "      <th>PeriodEnd</th>\n",
       "      <th>PeriodStart</th>\n",
       "      <th>Period</th>\n",
       "      <th>Temperature</th>\n",
       "      <th>CloudOpacity</th>\n",
       "      <th>DewpointTemp</th>\n",
       "      <th>DHI</th>\n",
       "      <th>DNI</th>\n",
       "      <th>EBH</th>\n",
       "      <th>Radiation</th>\n",
       "      <th>Precipitation</th>\n",
       "      <th>Humidity</th>\n",
       "      <th>Pressure</th>\n",
       "      <th>WindDirection</th>\n",
       "      <th>WindSpeed</th>\n",
       "      <th>Zenith</th>\n",
       "    </tr>\n",
       "  </thead>\n",
       "  <tbody>\n",
       "    <tr>\n",
       "      <th>0</th>\n",
       "      <td>2016-12-31 02:00:00</td>\n",
       "      <td>2016-12-31 01:00:00</td>\n",
       "      <td>PT60M</td>\n",
       "      <td>24.2</td>\n",
       "      <td>0.0</td>\n",
       "      <td>21.5</td>\n",
       "      <td>0</td>\n",
       "      <td>0</td>\n",
       "      <td>0</td>\n",
       "      <td>0</td>\n",
       "      <td>29.1</td>\n",
       "      <td>84.5</td>\n",
       "      <td>1006.8</td>\n",
       "      <td>232</td>\n",
       "      <td>1.8</td>\n",
       "      <td>150</td>\n",
       "    </tr>\n",
       "  </tbody>\n",
       "</table>\n",
       "</div>"
      ],
      "text/plain": [
       "            PeriodEnd         PeriodStart Period  Temperature  CloudOpacity  \\\n",
       "0 2016-12-31 02:00:00 2016-12-31 01:00:00  PT60M         24.2           0.0   \n",
       "\n",
       "   DewpointTemp  DHI  DNI  EBH  Radiation  Precipitation  Humidity  Pressure  \\\n",
       "0          21.5    0    0    0          0           29.1      84.5    1006.8   \n",
       "\n",
       "   WindDirection  WindSpeed  Zenith  \n",
       "0            232        1.8     150  "
      ]
     },
     "execution_count": 14,
     "metadata": {},
     "output_type": "execute_result"
    }
   ],
   "source": [
    "data.head(1)"
   ]
  },
  {
   "cell_type": "markdown",
   "id": "3191ce0d-9e89-431f-b496-99d02f7703eb",
   "metadata": {},
   "source": [
    "### Seperate the year, month and day values from the period column"
   ]
  },
  {
   "cell_type": "code",
   "execution_count": 15,
   "id": "22a48b21-ee67-4cc7-9795-5f27f0824fa7",
   "metadata": {},
   "outputs": [],
   "source": [
    "data['YearPS'] = pd.to_datetime(data['PeriodStart']).dt.year\n",
    "data['YearPE'] = pd.to_datetime(data['PeriodEnd']).dt.year\n",
    "\n",
    "data['MonthPS'] = pd.to_datetime(data['PeriodStart']).dt.month\n",
    "data['MonthPE'] = pd.to_datetime(data['PeriodEnd']).dt.month\n",
    "\n",
    "data['DayPS'] = pd.to_datetime(data['PeriodStart']).dt.day\n",
    "data['DayPE'] = pd.to_datetime(data['PeriodEnd']).dt.day\n",
    "\n",
    "data['HourPS'] = pd.to_datetime(data['PeriodStart']).dt.hour\n",
    "data['HourPE'] = pd.to_datetime(data['PeriodEnd']).dt.hour"
   ]
  },
  {
   "cell_type": "code",
   "execution_count": 16,
   "id": "70d60845-7e68-4c2c-b9dd-afc96bbd2c8b",
   "metadata": {},
   "outputs": [
    {
     "data": {
      "text/plain": [
       "(26325, 24)"
      ]
     },
     "execution_count": 16,
     "metadata": {},
     "output_type": "execute_result"
    }
   ],
   "source": [
    "data.shape"
   ]
  },
  {
   "cell_type": "code",
   "execution_count": 17,
   "id": "da04557a-0529-4083-adf0-53d6f88e7dba",
   "metadata": {},
   "outputs": [
    {
     "data": {
      "text/html": [
       "<div>\n",
       "<style scoped>\n",
       "    .dataframe tbody tr th:only-of-type {\n",
       "        vertical-align: middle;\n",
       "    }\n",
       "\n",
       "    .dataframe tbody tr th {\n",
       "        vertical-align: top;\n",
       "    }\n",
       "\n",
       "    .dataframe thead th {\n",
       "        text-align: right;\n",
       "    }\n",
       "</style>\n",
       "<table border=\"1\" class=\"dataframe\">\n",
       "  <thead>\n",
       "    <tr style=\"text-align: right;\">\n",
       "      <th></th>\n",
       "      <th>PeriodEnd</th>\n",
       "      <th>PeriodStart</th>\n",
       "      <th>Period</th>\n",
       "      <th>Temperature</th>\n",
       "      <th>CloudOpacity</th>\n",
       "      <th>DewpointTemp</th>\n",
       "      <th>DHI</th>\n",
       "      <th>DNI</th>\n",
       "      <th>EBH</th>\n",
       "      <th>Radiation</th>\n",
       "      <th>...</th>\n",
       "      <th>WindSpeed</th>\n",
       "      <th>Zenith</th>\n",
       "      <th>YearPS</th>\n",
       "      <th>YearPE</th>\n",
       "      <th>MonthPS</th>\n",
       "      <th>MonthPE</th>\n",
       "      <th>DayPS</th>\n",
       "      <th>DayPE</th>\n",
       "      <th>HourPS</th>\n",
       "      <th>HourPE</th>\n",
       "    </tr>\n",
       "  </thead>\n",
       "  <tbody>\n",
       "    <tr>\n",
       "      <th>0</th>\n",
       "      <td>2016-12-31 02:00:00</td>\n",
       "      <td>2016-12-31 01:00:00</td>\n",
       "      <td>PT60M</td>\n",
       "      <td>24.2</td>\n",
       "      <td>0.0</td>\n",
       "      <td>21.5</td>\n",
       "      <td>0</td>\n",
       "      <td>0</td>\n",
       "      <td>0</td>\n",
       "      <td>0</td>\n",
       "      <td>...</td>\n",
       "      <td>1.8</td>\n",
       "      <td>150</td>\n",
       "      <td>2016</td>\n",
       "      <td>2016</td>\n",
       "      <td>12</td>\n",
       "      <td>12</td>\n",
       "      <td>31</td>\n",
       "      <td>31</td>\n",
       "      <td>1</td>\n",
       "      <td>2</td>\n",
       "    </tr>\n",
       "    <tr>\n",
       "      <th>1</th>\n",
       "      <td>2016-12-31 03:00:00</td>\n",
       "      <td>2016-12-31 02:00:00</td>\n",
       "      <td>PT60M</td>\n",
       "      <td>23.4</td>\n",
       "      <td>0.0</td>\n",
       "      <td>21.3</td>\n",
       "      <td>0</td>\n",
       "      <td>0</td>\n",
       "      <td>0</td>\n",
       "      <td>0</td>\n",
       "      <td>...</td>\n",
       "      <td>1.5</td>\n",
       "      <td>138</td>\n",
       "      <td>2016</td>\n",
       "      <td>2016</td>\n",
       "      <td>12</td>\n",
       "      <td>12</td>\n",
       "      <td>31</td>\n",
       "      <td>31</td>\n",
       "      <td>2</td>\n",
       "      <td>3</td>\n",
       "    </tr>\n",
       "  </tbody>\n",
       "</table>\n",
       "<p>2 rows × 24 columns</p>\n",
       "</div>"
      ],
      "text/plain": [
       "            PeriodEnd         PeriodStart Period  Temperature  CloudOpacity  \\\n",
       "0 2016-12-31 02:00:00 2016-12-31 01:00:00  PT60M         24.2           0.0   \n",
       "1 2016-12-31 03:00:00 2016-12-31 02:00:00  PT60M         23.4           0.0   \n",
       "\n",
       "   DewpointTemp  DHI  DNI  EBH  Radiation  ...  WindSpeed  Zenith  YearPS  \\\n",
       "0          21.5    0    0    0          0  ...        1.8     150    2016   \n",
       "1          21.3    0    0    0          0  ...        1.5     138    2016   \n",
       "\n",
       "   YearPE  MonthPS  MonthPE  DayPS  DayPE  HourPS  HourPE  \n",
       "0    2016       12       12     31     31       1       2  \n",
       "1    2016       12       12     31     31       2       3  \n",
       "\n",
       "[2 rows x 24 columns]"
      ]
     },
     "execution_count": 17,
     "metadata": {},
     "output_type": "execute_result"
    }
   ],
   "source": [
    "data.head(2)"
   ]
  },
  {
   "cell_type": "code",
   "execution_count": 18,
   "id": "3736f152-b273-4d53-8c54-da924be49a80",
   "metadata": {},
   "outputs": [
    {
     "data": {
      "text/plain": [
       "Index(['PeriodEnd', 'PeriodStart', 'Period', 'Temperature', 'CloudOpacity',\n",
       "       'DewpointTemp', 'DHI', 'DNI', 'EBH', 'Radiation', 'Precipitation',\n",
       "       'Humidity', 'Pressure', 'WindDirection', 'WindSpeed', 'Zenith',\n",
       "       'YearPS', 'YearPE', 'MonthPS', 'MonthPE', 'DayPS', 'DayPE', 'HourPS',\n",
       "       'HourPE'],\n",
       "      dtype='object')"
      ]
     },
     "execution_count": 18,
     "metadata": {},
     "output_type": "execute_result"
    }
   ],
   "source": [
    "data.columns"
   ]
  },
  {
   "cell_type": "code",
   "execution_count": 19,
   "id": "67ce06a8-d1c0-4cee-81cb-ee2fc69d9fff",
   "metadata": {},
   "outputs": [],
   "source": [
    "def sunrise(row):\n",
    "    \n",
    "    \"\"\" function to identify time of sunrise \"\"\"\n",
    "    \n",
    "    value = 0\n",
    "    if row['HourPS'] == 4 and row['HourPE'] == 5 and row['Radiation'] > 0:\n",
    "        value = '05:00:00'\n",
    "    elif row['HourPS'] == 5 and row['HourPE'] == 6 and row['Radiation'] > 0:\n",
    "        value = '06:00:00'\n",
    "    return value\n",
    "\n",
    "\n",
    "def sunset(row):\n",
    "    \n",
    "    \"\"\" function to identify time of sunset \"\"\"\n",
    "    \n",
    "    value = 0\n",
    "    if row['HourPS'] == 17 and row['HourPE'] == 18 and row['Radiation'] > 0:\n",
    "        value = '18:00:00'\n",
    "    elif row['HourPS'] == 18 and row['HourPE'] == 19 and row['Radiation'] > 0:\n",
    "        value = '19:00:00'\n",
    "    return value"
   ]
  },
  {
   "cell_type": "markdown",
   "id": "090181b7-5b1a-4bab-9676-2b9b2a2370f9",
   "metadata": {},
   "source": [
    "### create a new columns to reflect the sunrise and sunset"
   ]
  },
  {
   "cell_type": "code",
   "execution_count": 20,
   "id": "b420fdc6-e33b-4413-b574-337ef6f0bfe2",
   "metadata": {},
   "outputs": [
    {
     "data": {
      "text/html": [
       "<div>\n",
       "<style scoped>\n",
       "    .dataframe tbody tr th:only-of-type {\n",
       "        vertical-align: middle;\n",
       "    }\n",
       "\n",
       "    .dataframe tbody tr th {\n",
       "        vertical-align: top;\n",
       "    }\n",
       "\n",
       "    .dataframe thead th {\n",
       "        text-align: right;\n",
       "    }\n",
       "</style>\n",
       "<table border=\"1\" class=\"dataframe\">\n",
       "  <thead>\n",
       "    <tr style=\"text-align: right;\">\n",
       "      <th></th>\n",
       "      <th>PeriodEnd</th>\n",
       "      <th>PeriodStart</th>\n",
       "      <th>Period</th>\n",
       "      <th>Temperature</th>\n",
       "      <th>CloudOpacity</th>\n",
       "      <th>DewpointTemp</th>\n",
       "      <th>DHI</th>\n",
       "      <th>DNI</th>\n",
       "      <th>EBH</th>\n",
       "      <th>Radiation</th>\n",
       "      <th>...</th>\n",
       "      <th>YearPS</th>\n",
       "      <th>YearPE</th>\n",
       "      <th>MonthPS</th>\n",
       "      <th>MonthPE</th>\n",
       "      <th>DayPS</th>\n",
       "      <th>DayPE</th>\n",
       "      <th>HourPS</th>\n",
       "      <th>HourPE</th>\n",
       "      <th>Sunrise</th>\n",
       "      <th>Sunset</th>\n",
       "    </tr>\n",
       "  </thead>\n",
       "  <tbody>\n",
       "    <tr>\n",
       "      <th>0</th>\n",
       "      <td>2016-12-31 02:00:00</td>\n",
       "      <td>2016-12-31 01:00:00</td>\n",
       "      <td>PT60M</td>\n",
       "      <td>24.2</td>\n",
       "      <td>0.0</td>\n",
       "      <td>21.5</td>\n",
       "      <td>0</td>\n",
       "      <td>0</td>\n",
       "      <td>0</td>\n",
       "      <td>0</td>\n",
       "      <td>...</td>\n",
       "      <td>2016</td>\n",
       "      <td>2016</td>\n",
       "      <td>12</td>\n",
       "      <td>12</td>\n",
       "      <td>31</td>\n",
       "      <td>31</td>\n",
       "      <td>1</td>\n",
       "      <td>2</td>\n",
       "      <td>0</td>\n",
       "      <td>0</td>\n",
       "    </tr>\n",
       "    <tr>\n",
       "      <th>1</th>\n",
       "      <td>2016-12-31 03:00:00</td>\n",
       "      <td>2016-12-31 02:00:00</td>\n",
       "      <td>PT60M</td>\n",
       "      <td>23.4</td>\n",
       "      <td>0.0</td>\n",
       "      <td>21.3</td>\n",
       "      <td>0</td>\n",
       "      <td>0</td>\n",
       "      <td>0</td>\n",
       "      <td>0</td>\n",
       "      <td>...</td>\n",
       "      <td>2016</td>\n",
       "      <td>2016</td>\n",
       "      <td>12</td>\n",
       "      <td>12</td>\n",
       "      <td>31</td>\n",
       "      <td>31</td>\n",
       "      <td>2</td>\n",
       "      <td>3</td>\n",
       "      <td>0</td>\n",
       "      <td>0</td>\n",
       "    </tr>\n",
       "    <tr>\n",
       "      <th>2</th>\n",
       "      <td>2016-12-31 04:00:00</td>\n",
       "      <td>2016-12-31 03:00:00</td>\n",
       "      <td>PT60M</td>\n",
       "      <td>22.8</td>\n",
       "      <td>0.0</td>\n",
       "      <td>21.1</td>\n",
       "      <td>0</td>\n",
       "      <td>0</td>\n",
       "      <td>0</td>\n",
       "      <td>0</td>\n",
       "      <td>...</td>\n",
       "      <td>2016</td>\n",
       "      <td>2016</td>\n",
       "      <td>12</td>\n",
       "      <td>12</td>\n",
       "      <td>31</td>\n",
       "      <td>31</td>\n",
       "      <td>3</td>\n",
       "      <td>4</td>\n",
       "      <td>0</td>\n",
       "      <td>0</td>\n",
       "    </tr>\n",
       "    <tr>\n",
       "      <th>3</th>\n",
       "      <td>2016-12-31 05:00:00</td>\n",
       "      <td>2016-12-31 04:00:00</td>\n",
       "      <td>PT60M</td>\n",
       "      <td>22.4</td>\n",
       "      <td>0.0</td>\n",
       "      <td>20.9</td>\n",
       "      <td>0</td>\n",
       "      <td>0</td>\n",
       "      <td>0</td>\n",
       "      <td>0</td>\n",
       "      <td>...</td>\n",
       "      <td>2016</td>\n",
       "      <td>2016</td>\n",
       "      <td>12</td>\n",
       "      <td>12</td>\n",
       "      <td>31</td>\n",
       "      <td>31</td>\n",
       "      <td>4</td>\n",
       "      <td>5</td>\n",
       "      <td>0</td>\n",
       "      <td>0</td>\n",
       "    </tr>\n",
       "    <tr>\n",
       "      <th>4</th>\n",
       "      <td>2016-12-31 06:00:00</td>\n",
       "      <td>2016-12-31 05:00:00</td>\n",
       "      <td>PT60M</td>\n",
       "      <td>22.1</td>\n",
       "      <td>0.0</td>\n",
       "      <td>20.8</td>\n",
       "      <td>0</td>\n",
       "      <td>0</td>\n",
       "      <td>0</td>\n",
       "      <td>0</td>\n",
       "      <td>...</td>\n",
       "      <td>2016</td>\n",
       "      <td>2016</td>\n",
       "      <td>12</td>\n",
       "      <td>12</td>\n",
       "      <td>31</td>\n",
       "      <td>31</td>\n",
       "      <td>5</td>\n",
       "      <td>6</td>\n",
       "      <td>0</td>\n",
       "      <td>0</td>\n",
       "    </tr>\n",
       "  </tbody>\n",
       "</table>\n",
       "<p>5 rows × 26 columns</p>\n",
       "</div>"
      ],
      "text/plain": [
       "            PeriodEnd         PeriodStart Period  Temperature  CloudOpacity  \\\n",
       "0 2016-12-31 02:00:00 2016-12-31 01:00:00  PT60M         24.2           0.0   \n",
       "1 2016-12-31 03:00:00 2016-12-31 02:00:00  PT60M         23.4           0.0   \n",
       "2 2016-12-31 04:00:00 2016-12-31 03:00:00  PT60M         22.8           0.0   \n",
       "3 2016-12-31 05:00:00 2016-12-31 04:00:00  PT60M         22.4           0.0   \n",
       "4 2016-12-31 06:00:00 2016-12-31 05:00:00  PT60M         22.1           0.0   \n",
       "\n",
       "   DewpointTemp  DHI  DNI  EBH  Radiation  ...  YearPS  YearPE  MonthPS  \\\n",
       "0          21.5    0    0    0          0  ...    2016    2016       12   \n",
       "1          21.3    0    0    0          0  ...    2016    2016       12   \n",
       "2          21.1    0    0    0          0  ...    2016    2016       12   \n",
       "3          20.9    0    0    0          0  ...    2016    2016       12   \n",
       "4          20.8    0    0    0          0  ...    2016    2016       12   \n",
       "\n",
       "   MonthPE  DayPS  DayPE  HourPS  HourPE  Sunrise  Sunset  \n",
       "0       12     31     31       1       2        0       0  \n",
       "1       12     31     31       2       3        0       0  \n",
       "2       12     31     31       3       4        0       0  \n",
       "3       12     31     31       4       5        0       0  \n",
       "4       12     31     31       5       6        0       0  \n",
       "\n",
       "[5 rows x 26 columns]"
      ]
     },
     "execution_count": 20,
     "metadata": {},
     "output_type": "execute_result"
    }
   ],
   "source": [
    "data['Sunrise'] = data.apply(sunrise, axis = 1)\n",
    "data['Sunset'] = data.apply(sunset, axis = 1)\n",
    "data.head()"
   ]
  },
  {
   "cell_type": "code",
   "execution_count": 21,
   "id": "5aacfba3-1e7a-40f7-957e-9dce5fc6aab1",
   "metadata": {},
   "outputs": [
    {
     "data": {
      "text/plain": [
       "(26325, 26)"
      ]
     },
     "execution_count": 21,
     "metadata": {},
     "output_type": "execute_result"
    }
   ],
   "source": [
    "data.shape"
   ]
  },
  {
   "cell_type": "code",
   "execution_count": 22,
   "id": "d7cc2de5-72b5-4a19-8833-f4500efb4e62",
   "metadata": {},
   "outputs": [
    {
     "name": "stdout",
     "output_type": "stream",
     "text": [
      "Time of sunrise:  [0 '06:00:00']\n",
      "Time of sunset :  [0 '18:00:00']\n"
     ]
    }
   ],
   "source": [
    "print('Time of sunrise: ', data['Sunrise'].unique())\n",
    "print('Time of sunset : ', data['Sunset'].unique())"
   ]
  },
  {
   "cell_type": "code",
   "execution_count": 23,
   "id": "12389c96-b4ce-4d1a-88ba-2e0243c7eaf7",
   "metadata": {},
   "outputs": [
    {
     "name": "stdout",
     "output_type": "stream",
     "text": [
      "<class 'pandas.core.frame.DataFrame'>\n",
      "RangeIndex: 26325 entries, 0 to 26324\n",
      "Data columns (total 26 columns):\n",
      " #   Column         Non-Null Count  Dtype         \n",
      "---  ------         --------------  -----         \n",
      " 0   PeriodEnd      26325 non-null  datetime64[ns]\n",
      " 1   PeriodStart    26325 non-null  datetime64[ns]\n",
      " 2   Period         26325 non-null  object        \n",
      " 3   Temperature    26325 non-null  float64       \n",
      " 4   CloudOpacity   26325 non-null  float64       \n",
      " 5   DewpointTemp   26325 non-null  float64       \n",
      " 6   DHI            26325 non-null  int64         \n",
      " 7   DNI            26325 non-null  int64         \n",
      " 8   EBH            26325 non-null  int64         \n",
      " 9   Radiation      26325 non-null  int64         \n",
      " 10  Precipitation  26325 non-null  float64       \n",
      " 11  Humidity       26325 non-null  float64       \n",
      " 12  Pressure       26325 non-null  float64       \n",
      " 13  WindDirection  26325 non-null  int64         \n",
      " 14  WindSpeed      26325 non-null  float64       \n",
      " 15  Zenith         26325 non-null  int64         \n",
      " 16  YearPS         26325 non-null  int64         \n",
      " 17  YearPE         26325 non-null  int64         \n",
      " 18  MonthPS        26325 non-null  int64         \n",
      " 19  MonthPE        26325 non-null  int64         \n",
      " 20  DayPS          26325 non-null  int64         \n",
      " 21  DayPE          26325 non-null  int64         \n",
      " 22  HourPS         26325 non-null  int64         \n",
      " 23  HourPE         26325 non-null  int64         \n",
      " 24  Sunrise        26325 non-null  object        \n",
      " 25  Sunset         26325 non-null  object        \n",
      "dtypes: datetime64[ns](2), float64(7), int64(14), object(3)\n",
      "memory usage: 5.2+ MB\n"
     ]
    }
   ],
   "source": [
    "data.info()"
   ]
  },
  {
   "cell_type": "markdown",
   "id": "5e82740f-cbaf-45f7-827d-fdc08bdbe319",
   "metadata": {},
   "source": [
    "### filter DNI, DHI and Radiation where values == 0, because that mean the records were taken at night when there's no solar radiation"
   ]
  },
  {
   "cell_type": "code",
   "execution_count": 24,
   "id": "de51ccf8-5237-43e7-9a20-83c5cc460dd6",
   "metadata": {},
   "outputs": [
    {
     "name": "stdout",
     "output_type": "stream",
     "text": [
      "Total data shape (Day and Night):  (26325, 26)\n",
      "Only Day data shape :  (14002, 26)\n"
     ]
    }
   ],
   "source": [
    "data_new = data.loc[~ ((data['DNI'] == 0) & (data['DHI'] == 0) & (data['Radiation'] == 0)), :]\n",
    "\n",
    "print('Total data shape (Day and Night): ', data.shape)\n",
    "print('Only Day data shape : ', data_new.shape)"
   ]
  },
  {
   "cell_type": "markdown",
   "id": "19675382-52ed-4eb7-9c1e-3d793786d439",
   "metadata": {},
   "source": [
    "### create a date column and convert the datatype to datetime"
   ]
  },
  {
   "cell_type": "code",
   "execution_count": 25,
   "id": "ed1da18a-4e9f-48b7-a7eb-b43a4b4a1635",
   "metadata": {},
   "outputs": [
    {
     "name": "stderr",
     "output_type": "stream",
     "text": [
      "<ipython-input-25-33d00d3460c4>:1: SettingWithCopyWarning: \n",
      "A value is trying to be set on a copy of a slice from a DataFrame.\n",
      "Try using .loc[row_indexer,col_indexer] = value instead\n",
      "\n",
      "See the caveats in the documentation: https://pandas.pydata.org/pandas-docs/stable/user_guide/indexing.html#returning-a-view-versus-a-copy\n",
      "  data_new['Date'] = pd.to_datetime(data_new['PeriodEnd']).dt.normalize()\n"
     ]
    }
   ],
   "source": [
    "data_new['Date'] = pd.to_datetime(data_new['PeriodEnd']).dt.normalize()"
   ]
  },
  {
   "cell_type": "code",
   "execution_count": 26,
   "id": "9ce20214-f0a7-479f-9f7e-ecbfb26257a2",
   "metadata": {},
   "outputs": [
    {
     "data": {
      "text/html": [
       "<div>\n",
       "<style scoped>\n",
       "    .dataframe tbody tr th:only-of-type {\n",
       "        vertical-align: middle;\n",
       "    }\n",
       "\n",
       "    .dataframe tbody tr th {\n",
       "        vertical-align: top;\n",
       "    }\n",
       "\n",
       "    .dataframe thead th {\n",
       "        text-align: right;\n",
       "    }\n",
       "</style>\n",
       "<table border=\"1\" class=\"dataframe\">\n",
       "  <thead>\n",
       "    <tr style=\"text-align: right;\">\n",
       "      <th></th>\n",
       "      <th>PeriodEnd</th>\n",
       "      <th>PeriodStart</th>\n",
       "      <th>Period</th>\n",
       "      <th>Temperature</th>\n",
       "      <th>CloudOpacity</th>\n",
       "      <th>DewpointTemp</th>\n",
       "      <th>DHI</th>\n",
       "      <th>DNI</th>\n",
       "      <th>EBH</th>\n",
       "      <th>Radiation</th>\n",
       "      <th>...</th>\n",
       "      <th>YearPE</th>\n",
       "      <th>MonthPS</th>\n",
       "      <th>MonthPE</th>\n",
       "      <th>DayPS</th>\n",
       "      <th>DayPE</th>\n",
       "      <th>HourPS</th>\n",
       "      <th>HourPE</th>\n",
       "      <th>Sunrise</th>\n",
       "      <th>Sunset</th>\n",
       "      <th>Date</th>\n",
       "    </tr>\n",
       "  </thead>\n",
       "  <tbody>\n",
       "    <tr>\n",
       "      <th>5</th>\n",
       "      <td>2016-12-31 07:00:00</td>\n",
       "      <td>2016-12-31 06:00:00</td>\n",
       "      <td>PT60M</td>\n",
       "      <td>22.6</td>\n",
       "      <td>8.8</td>\n",
       "      <td>20.8</td>\n",
       "      <td>34</td>\n",
       "      <td>0</td>\n",
       "      <td>0</td>\n",
       "      <td>34</td>\n",
       "      <td>...</td>\n",
       "      <td>2016</td>\n",
       "      <td>12</td>\n",
       "      <td>12</td>\n",
       "      <td>31</td>\n",
       "      <td>31</td>\n",
       "      <td>6</td>\n",
       "      <td>7</td>\n",
       "      <td>0</td>\n",
       "      <td>0</td>\n",
       "      <td>2016-12-31</td>\n",
       "    </tr>\n",
       "  </tbody>\n",
       "</table>\n",
       "<p>1 rows × 27 columns</p>\n",
       "</div>"
      ],
      "text/plain": [
       "            PeriodEnd         PeriodStart Period  Temperature  CloudOpacity  \\\n",
       "5 2016-12-31 07:00:00 2016-12-31 06:00:00  PT60M         22.6           8.8   \n",
       "\n",
       "   DewpointTemp  DHI  DNI  EBH  Radiation  ...  YearPE  MonthPS  MonthPE  \\\n",
       "5          20.8   34    0    0         34  ...    2016       12       12   \n",
       "\n",
       "   DayPS  DayPE  HourPS  HourPE  Sunrise  Sunset       Date  \n",
       "5     31     31       6       7        0       0 2016-12-31  \n",
       "\n",
       "[1 rows x 27 columns]"
      ]
     },
     "execution_count": 26,
     "metadata": {},
     "output_type": "execute_result"
    }
   ],
   "source": [
    "data_new.head(1)"
   ]
  },
  {
   "cell_type": "code",
   "execution_count": 27,
   "id": "0d287918-9fee-4015-80d7-3a9e02fe3216",
   "metadata": {},
   "outputs": [],
   "source": [
    "dt_series = pd.to_datetime(data_new['Date'])\n",
    "\n",
    "# pass the datatime series to datetime index\n",
    "dt_index = pd.DatetimeIndex(dt_series.values)\n",
    "\n",
    "data_new1 = data_new.set_index(dt_index)"
   ]
  },
  {
   "cell_type": "code",
   "execution_count": 28,
   "id": "bdf24e9b-5e87-445c-b289-fd5ad97e46a8",
   "metadata": {},
   "outputs": [
    {
     "data": {
      "text/html": [
       "<div>\n",
       "<style scoped>\n",
       "    .dataframe tbody tr th:only-of-type {\n",
       "        vertical-align: middle;\n",
       "    }\n",
       "\n",
       "    .dataframe tbody tr th {\n",
       "        vertical-align: top;\n",
       "    }\n",
       "\n",
       "    .dataframe thead th {\n",
       "        text-align: right;\n",
       "    }\n",
       "</style>\n",
       "<table border=\"1\" class=\"dataframe\">\n",
       "  <thead>\n",
       "    <tr style=\"text-align: right;\">\n",
       "      <th></th>\n",
       "      <th>PeriodEnd</th>\n",
       "      <th>PeriodStart</th>\n",
       "      <th>Period</th>\n",
       "      <th>Temperature</th>\n",
       "      <th>CloudOpacity</th>\n",
       "      <th>DewpointTemp</th>\n",
       "      <th>DHI</th>\n",
       "      <th>DNI</th>\n",
       "      <th>EBH</th>\n",
       "      <th>Radiation</th>\n",
       "      <th>...</th>\n",
       "      <th>YearPE</th>\n",
       "      <th>MonthPS</th>\n",
       "      <th>MonthPE</th>\n",
       "      <th>DayPS</th>\n",
       "      <th>DayPE</th>\n",
       "      <th>HourPS</th>\n",
       "      <th>HourPE</th>\n",
       "      <th>Sunrise</th>\n",
       "      <th>Sunset</th>\n",
       "      <th>Date</th>\n",
       "    </tr>\n",
       "  </thead>\n",
       "  <tbody>\n",
       "    <tr>\n",
       "      <th>2016-12-31</th>\n",
       "      <td>2016-12-31 07:00:00</td>\n",
       "      <td>2016-12-31 06:00:00</td>\n",
       "      <td>PT60M</td>\n",
       "      <td>22.6</td>\n",
       "      <td>8.8</td>\n",
       "      <td>20.8</td>\n",
       "      <td>34</td>\n",
       "      <td>0</td>\n",
       "      <td>0</td>\n",
       "      <td>34</td>\n",
       "      <td>...</td>\n",
       "      <td>2016</td>\n",
       "      <td>12</td>\n",
       "      <td>12</td>\n",
       "      <td>31</td>\n",
       "      <td>31</td>\n",
       "      <td>6</td>\n",
       "      <td>7</td>\n",
       "      <td>0</td>\n",
       "      <td>0</td>\n",
       "      <td>2016-12-31</td>\n",
       "    </tr>\n",
       "    <tr>\n",
       "      <th>2016-12-31</th>\n",
       "      <td>2016-12-31 08:00:00</td>\n",
       "      <td>2016-12-31 07:00:00</td>\n",
       "      <td>PT60M</td>\n",
       "      <td>24.0</td>\n",
       "      <td>16.6</td>\n",
       "      <td>21.0</td>\n",
       "      <td>139</td>\n",
       "      <td>0</td>\n",
       "      <td>0</td>\n",
       "      <td>139</td>\n",
       "      <td>...</td>\n",
       "      <td>2016</td>\n",
       "      <td>12</td>\n",
       "      <td>12</td>\n",
       "      <td>31</td>\n",
       "      <td>31</td>\n",
       "      <td>7</td>\n",
       "      <td>8</td>\n",
       "      <td>0</td>\n",
       "      <td>0</td>\n",
       "      <td>2016-12-31</td>\n",
       "    </tr>\n",
       "  </tbody>\n",
       "</table>\n",
       "<p>2 rows × 27 columns</p>\n",
       "</div>"
      ],
      "text/plain": [
       "                     PeriodEnd         PeriodStart Period  Temperature  \\\n",
       "2016-12-31 2016-12-31 07:00:00 2016-12-31 06:00:00  PT60M         22.6   \n",
       "2016-12-31 2016-12-31 08:00:00 2016-12-31 07:00:00  PT60M         24.0   \n",
       "\n",
       "            CloudOpacity  DewpointTemp  DHI  DNI  EBH  Radiation  ...  YearPE  \\\n",
       "2016-12-31           8.8          20.8   34    0    0         34  ...    2016   \n",
       "2016-12-31          16.6          21.0  139    0    0        139  ...    2016   \n",
       "\n",
       "            MonthPS  MonthPE  DayPS  DayPE  HourPS  HourPE  Sunrise  Sunset  \\\n",
       "2016-12-31       12       12     31     31       6       7        0       0   \n",
       "2016-12-31       12       12     31     31       7       8        0       0   \n",
       "\n",
       "                 Date  \n",
       "2016-12-31 2016-12-31  \n",
       "2016-12-31 2016-12-31  \n",
       "\n",
       "[2 rows x 27 columns]"
      ]
     },
     "execution_count": 28,
     "metadata": {},
     "output_type": "execute_result"
    }
   ],
   "source": [
    "data_new1.head(2)"
   ]
  },
  {
   "cell_type": "markdown",
   "id": "542c0a25-7d38-4a90-afee-932d5a2198e4",
   "metadata": {},
   "source": [
    "### sample daily average for the solar and weather features"
   ]
  },
  {
   "cell_type": "code",
   "execution_count": 29,
   "id": "eb4fbb17-420a-476c-9b04-026487fa3ff3",
   "metadata": {},
   "outputs": [],
   "source": [
    "data_new1['Daily_radiation']= data_new1.reset_index().groupby(pd.Grouper(key='Date', freq='1D'))['Radiation'].mean()\n",
    "data_new1['Daily_DNI']= data_new1.reset_index().groupby(pd.Grouper(key='Date', freq='1D'))['DNI'].mean()\n",
    "data_new1['Daily_DHI']= data_new1.reset_index().groupby(pd.Grouper(key='Date', freq='1D'))['DHI'].mean()\n",
    "data_new1['Daily_Temp']= data_new1.reset_index().groupby(pd.Grouper(key='Date', freq='1D'))['Temperature'].mean()\n",
    "data_new1['Daily_Precipitation']= data_new1.reset_index().groupby(pd.Grouper(key='Date', freq='1D'))['Precipitation'].mean()\n",
    "data_new1['Daily_Humidity']= data_new1.reset_index().groupby(pd.Grouper(key='Date', freq='1D'))['Humidity'].mean()\n",
    "data_new1['Daily_Pressure']= data_new1.reset_index().groupby(pd.Grouper(key='Date', freq='1D'))['Pressure'].mean()\n",
    "data_new1['Daily_WindDir']= data_new1.reset_index().groupby(pd.Grouper(key='Date', freq='1D'))['WindDirection'].mean()\n",
    "data_new1['Daily_WindSpeed']= data_new1.reset_index().groupby(pd.Grouper(key='Date', freq='1D'))['WindSpeed'].mean()"
   ]
  },
  {
   "cell_type": "code",
   "execution_count": 30,
   "id": "4a175bba-5ff8-415a-a729-c90110baa82f",
   "metadata": {},
   "outputs": [
    {
     "data": {
      "text/html": [
       "<div>\n",
       "<style scoped>\n",
       "    .dataframe tbody tr th:only-of-type {\n",
       "        vertical-align: middle;\n",
       "    }\n",
       "\n",
       "    .dataframe tbody tr th {\n",
       "        vertical-align: top;\n",
       "    }\n",
       "\n",
       "    .dataframe thead th {\n",
       "        text-align: right;\n",
       "    }\n",
       "</style>\n",
       "<table border=\"1\" class=\"dataframe\">\n",
       "  <thead>\n",
       "    <tr style=\"text-align: right;\">\n",
       "      <th></th>\n",
       "      <th>PeriodEnd</th>\n",
       "      <th>PeriodStart</th>\n",
       "      <th>Period</th>\n",
       "      <th>Temperature</th>\n",
       "      <th>CloudOpacity</th>\n",
       "      <th>DewpointTemp</th>\n",
       "      <th>DHI</th>\n",
       "      <th>DNI</th>\n",
       "      <th>EBH</th>\n",
       "      <th>Radiation</th>\n",
       "      <th>...</th>\n",
       "      <th>Date</th>\n",
       "      <th>Daily_radiation</th>\n",
       "      <th>Daily_DNI</th>\n",
       "      <th>Daily_DHI</th>\n",
       "      <th>Daily_Temp</th>\n",
       "      <th>Daily_Precipitation</th>\n",
       "      <th>Daily_Humidity</th>\n",
       "      <th>Daily_Pressure</th>\n",
       "      <th>Daily_WindDir</th>\n",
       "      <th>Daily_WindSpeed</th>\n",
       "    </tr>\n",
       "  </thead>\n",
       "  <tbody>\n",
       "    <tr>\n",
       "      <th>2016-12-31</th>\n",
       "      <td>2016-12-31 07:00:00</td>\n",
       "      <td>2016-12-31 06:00:00</td>\n",
       "      <td>PT60M</td>\n",
       "      <td>22.6</td>\n",
       "      <td>8.8</td>\n",
       "      <td>20.8</td>\n",
       "      <td>34</td>\n",
       "      <td>0</td>\n",
       "      <td>0</td>\n",
       "      <td>34</td>\n",
       "      <td>...</td>\n",
       "      <td>2016-12-31</td>\n",
       "      <td>360.166667</td>\n",
       "      <td>95.25</td>\n",
       "      <td>286.666667</td>\n",
       "      <td>28.166667</td>\n",
       "      <td>28.366667</td>\n",
       "      <td>62.025</td>\n",
       "      <td>1006.733333</td>\n",
       "      <td>189.416667</td>\n",
       "      <td>0.891667</td>\n",
       "    </tr>\n",
       "  </tbody>\n",
       "</table>\n",
       "<p>1 rows × 36 columns</p>\n",
       "</div>"
      ],
      "text/plain": [
       "                     PeriodEnd         PeriodStart Period  Temperature  \\\n",
       "2016-12-31 2016-12-31 07:00:00 2016-12-31 06:00:00  PT60M         22.6   \n",
       "\n",
       "            CloudOpacity  DewpointTemp  DHI  DNI  EBH  Radiation  ...  \\\n",
       "2016-12-31           8.8          20.8   34    0    0         34  ...   \n",
       "\n",
       "                 Date  Daily_radiation  Daily_DNI   Daily_DHI  Daily_Temp  \\\n",
       "2016-12-31 2016-12-31       360.166667      95.25  286.666667   28.166667   \n",
       "\n",
       "            Daily_Precipitation  Daily_Humidity  Daily_Pressure  \\\n",
       "2016-12-31            28.366667          62.025     1006.733333   \n",
       "\n",
       "            Daily_WindDir  Daily_WindSpeed  \n",
       "2016-12-31     189.416667         0.891667  \n",
       "\n",
       "[1 rows x 36 columns]"
      ]
     },
     "execution_count": 30,
     "metadata": {},
     "output_type": "execute_result"
    }
   ],
   "source": [
    "data_new1.head(1)"
   ]
  },
  {
   "cell_type": "markdown",
   "id": "c3138b40-f463-445c-bfc3-fc87e8920be5",
   "metadata": {},
   "source": [
    "### Drop unwanted features"
   ]
  },
  {
   "cell_type": "code",
   "execution_count": 31,
   "id": "3821b829-165d-46db-8361-1888870ff747",
   "metadata": {},
   "outputs": [],
   "source": [
    "new_data = data_new1.drop(['Period', 'PeriodStart', 'YearPS', 'HourPS', 'HourPE', 'Sunrise', 'Sunset', 'MonthPS', 'YearPE', 'DayPS'], axis= 1)"
   ]
  },
  {
   "cell_type": "code",
   "execution_count": 32,
   "id": "51bf9674-3d12-49f3-bb36-dc5b7614e274",
   "metadata": {},
   "outputs": [
    {
     "data": {
      "text/plain": [
       "Index(['PeriodEnd', 'Temperature', 'CloudOpacity', 'DewpointTemp', 'DHI',\n",
       "       'DNI', 'EBH', 'Radiation', 'Precipitation', 'Humidity', 'Pressure',\n",
       "       'WindDirection', 'WindSpeed', 'Zenith', 'MonthPE', 'DayPE', 'Date',\n",
       "       'Daily_radiation', 'Daily_DNI', 'Daily_DHI', 'Daily_Temp',\n",
       "       'Daily_Precipitation', 'Daily_Humidity', 'Daily_Pressure',\n",
       "       'Daily_WindDir', 'Daily_WindSpeed'],\n",
       "      dtype='object')"
      ]
     },
     "execution_count": 32,
     "metadata": {},
     "output_type": "execute_result"
    }
   ],
   "source": [
    "new_data.columns"
   ]
  },
  {
   "cell_type": "code",
   "execution_count": 33,
   "id": "230dbc81-f9ea-428c-8853-a047e09773f0",
   "metadata": {},
   "outputs": [
    {
     "data": {
      "text/plain": [
       "(14002, 26)"
      ]
     },
     "execution_count": 33,
     "metadata": {},
     "output_type": "execute_result"
    }
   ],
   "source": [
    "new_data.shape"
   ]
  },
  {
   "cell_type": "markdown",
   "id": "2c31d548-6393-44a7-92ed-43c86ac8c393",
   "metadata": {},
   "source": [
    "### Drop Duplicates"
   ]
  },
  {
   "cell_type": "code",
   "execution_count": 34,
   "id": "a506b03d-a866-4e90-909c-d370fd90fb23",
   "metadata": {},
   "outputs": [
    {
     "data": {
      "text/html": [
       "<div>\n",
       "<style scoped>\n",
       "    .dataframe tbody tr th:only-of-type {\n",
       "        vertical-align: middle;\n",
       "    }\n",
       "\n",
       "    .dataframe tbody tr th {\n",
       "        vertical-align: top;\n",
       "    }\n",
       "\n",
       "    .dataframe thead th {\n",
       "        text-align: right;\n",
       "    }\n",
       "</style>\n",
       "<table border=\"1\" class=\"dataframe\">\n",
       "  <thead>\n",
       "    <tr style=\"text-align: right;\">\n",
       "      <th></th>\n",
       "      <th>PeriodEnd</th>\n",
       "      <th>Temperature</th>\n",
       "      <th>CloudOpacity</th>\n",
       "      <th>DewpointTemp</th>\n",
       "      <th>DHI</th>\n",
       "      <th>DNI</th>\n",
       "      <th>EBH</th>\n",
       "      <th>Radiation</th>\n",
       "      <th>Precipitation</th>\n",
       "      <th>Humidity</th>\n",
       "      <th>...</th>\n",
       "      <th>Date</th>\n",
       "      <th>Daily_radiation</th>\n",
       "      <th>Daily_DNI</th>\n",
       "      <th>Daily_DHI</th>\n",
       "      <th>Daily_Temp</th>\n",
       "      <th>Daily_Precipitation</th>\n",
       "      <th>Daily_Humidity</th>\n",
       "      <th>Daily_Pressure</th>\n",
       "      <th>Daily_WindDir</th>\n",
       "      <th>Daily_WindSpeed</th>\n",
       "    </tr>\n",
       "  </thead>\n",
       "  <tbody>\n",
       "    <tr>\n",
       "      <th>2016-12-31</th>\n",
       "      <td>2016-12-31 18:00:00</td>\n",
       "      <td>28.0</td>\n",
       "      <td>0.0</td>\n",
       "      <td>20.2</td>\n",
       "      <td>14</td>\n",
       "      <td>0</td>\n",
       "      <td>0</td>\n",
       "      <td>14</td>\n",
       "      <td>27.7</td>\n",
       "      <td>62.3</td>\n",
       "      <td>...</td>\n",
       "      <td>2016-12-31</td>\n",
       "      <td>360.166667</td>\n",
       "      <td>95.25</td>\n",
       "      <td>286.666667</td>\n",
       "      <td>28.166667</td>\n",
       "      <td>28.366667</td>\n",
       "      <td>62.025000</td>\n",
       "      <td>1006.733333</td>\n",
       "      <td>189.416667</td>\n",
       "      <td>0.891667</td>\n",
       "    </tr>\n",
       "    <tr>\n",
       "      <th>2017-01-01</th>\n",
       "      <td>2017-01-01 18:00:00</td>\n",
       "      <td>28.2</td>\n",
       "      <td>0.0</td>\n",
       "      <td>20.3</td>\n",
       "      <td>14</td>\n",
       "      <td>0</td>\n",
       "      <td>0</td>\n",
       "      <td>14</td>\n",
       "      <td>29.7</td>\n",
       "      <td>62.3</td>\n",
       "      <td>...</td>\n",
       "      <td>2017-01-01</td>\n",
       "      <td>363.083333</td>\n",
       "      <td>108.75</td>\n",
       "      <td>279.000000</td>\n",
       "      <td>28.125000</td>\n",
       "      <td>30.116667</td>\n",
       "      <td>64.741667</td>\n",
       "      <td>1006.258333</td>\n",
       "      <td>256.416667</td>\n",
       "      <td>0.925000</td>\n",
       "    </tr>\n",
       "  </tbody>\n",
       "</table>\n",
       "<p>2 rows × 26 columns</p>\n",
       "</div>"
      ],
      "text/plain": [
       "                     PeriodEnd  Temperature  CloudOpacity  DewpointTemp  DHI  \\\n",
       "2016-12-31 2016-12-31 18:00:00         28.0           0.0          20.2   14   \n",
       "2017-01-01 2017-01-01 18:00:00         28.2           0.0          20.3   14   \n",
       "\n",
       "            DNI  EBH  Radiation  Precipitation  Humidity  ...       Date  \\\n",
       "2016-12-31    0    0         14           27.7      62.3  ... 2016-12-31   \n",
       "2017-01-01    0    0         14           29.7      62.3  ... 2017-01-01   \n",
       "\n",
       "            Daily_radiation  Daily_DNI   Daily_DHI  Daily_Temp  \\\n",
       "2016-12-31       360.166667      95.25  286.666667   28.166667   \n",
       "2017-01-01       363.083333     108.75  279.000000   28.125000   \n",
       "\n",
       "            Daily_Precipitation Daily_Humidity  Daily_Pressure  Daily_WindDir  \\\n",
       "2016-12-31            28.366667      62.025000     1006.733333     189.416667   \n",
       "2017-01-01            30.116667      64.741667     1006.258333     256.416667   \n",
       "\n",
       "            Daily_WindSpeed  \n",
       "2016-12-31         0.891667  \n",
       "2017-01-01         0.925000  \n",
       "\n",
       "[2 rows x 26 columns]"
      ]
     },
     "execution_count": 34,
     "metadata": {},
     "output_type": "execute_result"
    }
   ],
   "source": [
    "new_data = new_data[~ new_data.Date.duplicated(keep='last')]\n",
    "new_data.head(2)"
   ]
  },
  {
   "cell_type": "code",
   "execution_count": 35,
   "id": "d23923ba-a006-4adb-b019-86056906209f",
   "metadata": {},
   "outputs": [
    {
     "data": {
      "text/plain": [
       "(1097, 26)"
      ]
     },
     "execution_count": 35,
     "metadata": {},
     "output_type": "execute_result"
    }
   ],
   "source": [
    "new_data.shape"
   ]
  },
  {
   "cell_type": "code",
   "execution_count": 36,
   "id": "0519064c-c431-4bb6-a3cb-9eb5324e15b4",
   "metadata": {},
   "outputs": [
    {
     "data": {
      "text/plain": [
       "Index(['PeriodEnd', 'Temperature', 'CloudOpacity', 'DewpointTemp', 'DHI',\n",
       "       'DNI', 'EBH', 'Radiation', 'Precipitation', 'Humidity', 'Pressure',\n",
       "       'WindDirection', 'WindSpeed', 'Zenith', 'MonthPE', 'DayPE', 'Date',\n",
       "       'Daily_radiation', 'Daily_DNI', 'Daily_DHI', 'Daily_Temp',\n",
       "       'Daily_Precipitation', 'Daily_Humidity', 'Daily_Pressure',\n",
       "       'Daily_WindDir', 'Daily_WindSpeed'],\n",
       "      dtype='object')"
      ]
     },
     "execution_count": 36,
     "metadata": {},
     "output_type": "execute_result"
    }
   ],
   "source": [
    "new_data.columns"
   ]
  },
  {
   "cell_type": "markdown",
   "id": "72f5c6a6-e92a-47aa-b706-24b6146c3771",
   "metadata": {},
   "source": [
    "### Choose needed Features"
   ]
  },
  {
   "cell_type": "code",
   "execution_count": 37,
   "id": "aeb443d3-bc1e-4c92-85bb-389f58f49f10",
   "metadata": {},
   "outputs": [],
   "source": [
    "final_data = new_data[['MonthPE', 'DayPE', 'Date','Daily_Temp','Daily_Precipitation', 'Daily_Humidity', 'Daily_Pressure',\n",
    "                  'Daily_WindDir','Daily_WindSpeed','Daily_DNI', 'Daily_DHI', 'Daily_radiation']]"
   ]
  },
  {
   "cell_type": "code",
   "execution_count": 38,
   "id": "eb41bf1c-9051-4b51-a012-2cc7f2ef6ebb",
   "metadata": {},
   "outputs": [
    {
     "data": {
      "text/html": [
       "<div>\n",
       "<style scoped>\n",
       "    .dataframe tbody tr th:only-of-type {\n",
       "        vertical-align: middle;\n",
       "    }\n",
       "\n",
       "    .dataframe tbody tr th {\n",
       "        vertical-align: top;\n",
       "    }\n",
       "\n",
       "    .dataframe thead th {\n",
       "        text-align: right;\n",
       "    }\n",
       "</style>\n",
       "<table border=\"1\" class=\"dataframe\">\n",
       "  <thead>\n",
       "    <tr style=\"text-align: right;\">\n",
       "      <th></th>\n",
       "      <th>MonthPE</th>\n",
       "      <th>DayPE</th>\n",
       "      <th>Date</th>\n",
       "      <th>Daily_Temp</th>\n",
       "      <th>Daily_Precipitation</th>\n",
       "      <th>Daily_Humidity</th>\n",
       "      <th>Daily_Pressure</th>\n",
       "      <th>Daily_WindDir</th>\n",
       "      <th>Daily_WindSpeed</th>\n",
       "      <th>Daily_DNI</th>\n",
       "      <th>Daily_DHI</th>\n",
       "      <th>Daily_radiation</th>\n",
       "    </tr>\n",
       "  </thead>\n",
       "  <tbody>\n",
       "    <tr>\n",
       "      <th>2016-12-31</th>\n",
       "      <td>12</td>\n",
       "      <td>31</td>\n",
       "      <td>2016-12-31</td>\n",
       "      <td>28.166667</td>\n",
       "      <td>28.366667</td>\n",
       "      <td>62.025000</td>\n",
       "      <td>1006.733333</td>\n",
       "      <td>189.416667</td>\n",
       "      <td>0.891667</td>\n",
       "      <td>95.250000</td>\n",
       "      <td>286.666667</td>\n",
       "      <td>360.166667</td>\n",
       "    </tr>\n",
       "    <tr>\n",
       "      <th>2017-01-01</th>\n",
       "      <td>1</td>\n",
       "      <td>1</td>\n",
       "      <td>2017-01-01</td>\n",
       "      <td>28.125000</td>\n",
       "      <td>30.116667</td>\n",
       "      <td>64.741667</td>\n",
       "      <td>1006.258333</td>\n",
       "      <td>256.416667</td>\n",
       "      <td>0.925000</td>\n",
       "      <td>108.750000</td>\n",
       "      <td>279.000000</td>\n",
       "      <td>363.083333</td>\n",
       "    </tr>\n",
       "    <tr>\n",
       "      <th>2017-01-02</th>\n",
       "      <td>1</td>\n",
       "      <td>2</td>\n",
       "      <td>2017-01-02</td>\n",
       "      <td>28.216667</td>\n",
       "      <td>27.316667</td>\n",
       "      <td>63.750000</td>\n",
       "      <td>1006.791667</td>\n",
       "      <td>301.666667</td>\n",
       "      <td>0.875000</td>\n",
       "      <td>124.166667</td>\n",
       "      <td>280.750000</td>\n",
       "      <td>376.583333</td>\n",
       "    </tr>\n",
       "    <tr>\n",
       "      <th>2017-01-03</th>\n",
       "      <td>1</td>\n",
       "      <td>3</td>\n",
       "      <td>2017-01-03</td>\n",
       "      <td>28.275000</td>\n",
       "      <td>25.658333</td>\n",
       "      <td>60.783333</td>\n",
       "      <td>1006.766667</td>\n",
       "      <td>173.750000</td>\n",
       "      <td>0.825000</td>\n",
       "      <td>204.250000</td>\n",
       "      <td>262.750000</td>\n",
       "      <td>413.833333</td>\n",
       "    </tr>\n",
       "    <tr>\n",
       "      <th>2017-01-04</th>\n",
       "      <td>1</td>\n",
       "      <td>4</td>\n",
       "      <td>2017-01-04</td>\n",
       "      <td>28.250000</td>\n",
       "      <td>26.850000</td>\n",
       "      <td>56.991667</td>\n",
       "      <td>1006.416667</td>\n",
       "      <td>255.166667</td>\n",
       "      <td>1.208333</td>\n",
       "      <td>202.833333</td>\n",
       "      <td>261.666667</td>\n",
       "      <td>412.750000</td>\n",
       "    </tr>\n",
       "  </tbody>\n",
       "</table>\n",
       "</div>"
      ],
      "text/plain": [
       "            MonthPE  DayPE       Date  Daily_Temp  Daily_Precipitation  \\\n",
       "2016-12-31       12     31 2016-12-31   28.166667            28.366667   \n",
       "2017-01-01        1      1 2017-01-01   28.125000            30.116667   \n",
       "2017-01-02        1      2 2017-01-02   28.216667            27.316667   \n",
       "2017-01-03        1      3 2017-01-03   28.275000            25.658333   \n",
       "2017-01-04        1      4 2017-01-04   28.250000            26.850000   \n",
       "\n",
       "            Daily_Humidity  Daily_Pressure  Daily_WindDir  Daily_WindSpeed  \\\n",
       "2016-12-31       62.025000     1006.733333     189.416667         0.891667   \n",
       "2017-01-01       64.741667     1006.258333     256.416667         0.925000   \n",
       "2017-01-02       63.750000     1006.791667     301.666667         0.875000   \n",
       "2017-01-03       60.783333     1006.766667     173.750000         0.825000   \n",
       "2017-01-04       56.991667     1006.416667     255.166667         1.208333   \n",
       "\n",
       "             Daily_DNI   Daily_DHI  Daily_radiation  \n",
       "2016-12-31   95.250000  286.666667       360.166667  \n",
       "2017-01-01  108.750000  279.000000       363.083333  \n",
       "2017-01-02  124.166667  280.750000       376.583333  \n",
       "2017-01-03  204.250000  262.750000       413.833333  \n",
       "2017-01-04  202.833333  261.666667       412.750000  "
      ]
     },
     "execution_count": 38,
     "metadata": {},
     "output_type": "execute_result"
    }
   ],
   "source": [
    "final_data.head(5)"
   ]
  },
  {
   "cell_type": "code",
   "execution_count": 39,
   "id": "a028133a-3354-4971-8a51-f69be47c0005",
   "metadata": {},
   "outputs": [
    {
     "data": {
      "text/plain": [
       "(1097, 12)"
      ]
     },
     "execution_count": 39,
     "metadata": {},
     "output_type": "execute_result"
    }
   ],
   "source": [
    "final_data.shape"
   ]
  },
  {
   "cell_type": "code",
   "execution_count": 40,
   "id": "4d78c914-dee3-4a3c-a6d9-ce18902225c9",
   "metadata": {},
   "outputs": [
    {
     "name": "stdout",
     "output_type": "stream",
     "text": [
      "<class 'pandas.core.frame.DataFrame'>\n",
      "DatetimeIndex: 1097 entries, 2016-12-31 to 2020-01-01\n",
      "Data columns (total 12 columns):\n",
      " #   Column               Non-Null Count  Dtype         \n",
      "---  ------               --------------  -----         \n",
      " 0   MonthPE              1097 non-null   int64         \n",
      " 1   DayPE                1097 non-null   int64         \n",
      " 2   Date                 1097 non-null   datetime64[ns]\n",
      " 3   Daily_Temp           1097 non-null   float64       \n",
      " 4   Daily_Precipitation  1097 non-null   float64       \n",
      " 5   Daily_Humidity       1097 non-null   float64       \n",
      " 6   Daily_Pressure       1097 non-null   float64       \n",
      " 7   Daily_WindDir        1097 non-null   float64       \n",
      " 8   Daily_WindSpeed      1097 non-null   float64       \n",
      " 9   Daily_DNI            1097 non-null   float64       \n",
      " 10  Daily_DHI            1097 non-null   float64       \n",
      " 11  Daily_radiation      1097 non-null   float64       \n",
      "dtypes: datetime64[ns](1), float64(9), int64(2)\n",
      "memory usage: 111.4 KB\n"
     ]
    }
   ],
   "source": [
    "final_data.info()"
   ]
  },
  {
   "cell_type": "markdown",
   "id": "f89169e7-900e-4d0f-868c-e55ddeb7351b",
   "metadata": {},
   "source": [
    "### Save cleaned dataset"
   ]
  },
  {
   "cell_type": "code",
   "execution_count": 41,
   "id": "003fe9f6-b298-4a08-ad9d-aa1ecfc95cae",
   "metadata": {},
   "outputs": [],
   "source": [
    "final_data.to_csv('~/OneDrive/Documents/DS/Omdena-MlOps/Assignment 4/Solar Radiation Project/datasets/clean/cleaned_solar_radiation.csv')"
   ]
  },
  {
   "cell_type": "code",
   "execution_count": null,
   "id": "80d9aca4-f989-482e-ab0f-f50fd067c216",
   "metadata": {},
   "outputs": [],
   "source": []
  }
 ],
 "metadata": {
  "kernelspec": {
   "display_name": "Python 3",
   "language": "python",
   "name": "python3"
  },
  "language_info": {
   "codemirror_mode": {
    "name": "ipython",
    "version": 3
   },
   "file_extension": ".py",
   "mimetype": "text/x-python",
   "name": "python",
   "nbconvert_exporter": "python",
   "pygments_lexer": "ipython3",
   "version": "3.8.8"
  }
 },
 "nbformat": 4,
 "nbformat_minor": 5
}
