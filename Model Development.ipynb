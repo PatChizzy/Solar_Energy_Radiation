{
 "cells": [
  {
   "cell_type": "markdown",
   "id": "81067d27-1f25-4622-8951-9382b52a8d5c",
   "metadata": {},
   "source": [
    "# Import Libraries"
   ]
  },
  {
   "cell_type": "code",
   "execution_count": 1,
   "id": "a2ab9f5e-47ae-40c4-b565-b300ee2a55f6",
   "metadata": {},
   "outputs": [],
   "source": [
    "import numpy as np\n",
    "import pandas as pd\n",
    "import seaborn as sns\n",
    "import matplotlib.pyplot as plt\n",
    "%matplotlib inline"
   ]
  },
  {
   "cell_type": "markdown",
   "id": "438e16d5-482c-46a6-9375-faa2e8cf2190",
   "metadata": {},
   "source": [
    "# Data Wrangling"
   ]
  },
  {
   "cell_type": "code",
   "execution_count": 2,
   "id": "c67eeb80-357b-4aaa-9ebd-8c226b37620c",
   "metadata": {},
   "outputs": [
    {
     "data": {
      "text/html": [
       "<div>\n",
       "<style scoped>\n",
       "    .dataframe tbody tr th:only-of-type {\n",
       "        vertical-align: middle;\n",
       "    }\n",
       "\n",
       "    .dataframe tbody tr th {\n",
       "        vertical-align: top;\n",
       "    }\n",
       "\n",
       "    .dataframe thead th {\n",
       "        text-align: right;\n",
       "    }\n",
       "</style>\n",
       "<table border=\"1\" class=\"dataframe\">\n",
       "  <thead>\n",
       "    <tr style=\"text-align: right;\">\n",
       "      <th></th>\n",
       "      <th>Unnamed: 0</th>\n",
       "      <th>MonthPE</th>\n",
       "      <th>DayPE</th>\n",
       "      <th>Date</th>\n",
       "      <th>Daily_Temp</th>\n",
       "      <th>Daily_Precipitation</th>\n",
       "      <th>Daily_Humidity</th>\n",
       "      <th>Daily_Pressure</th>\n",
       "      <th>Daily_WindDir</th>\n",
       "      <th>Daily_WindSpeed</th>\n",
       "      <th>Daily_DNI</th>\n",
       "      <th>Daily_DHI</th>\n",
       "      <th>Daily_radiation</th>\n",
       "    </tr>\n",
       "  </thead>\n",
       "  <tbody>\n",
       "    <tr>\n",
       "      <th>0</th>\n",
       "      <td>2016-12-31</td>\n",
       "      <td>12</td>\n",
       "      <td>31</td>\n",
       "      <td>2016-12-31</td>\n",
       "      <td>28.166667</td>\n",
       "      <td>28.366667</td>\n",
       "      <td>62.025000</td>\n",
       "      <td>1006.733333</td>\n",
       "      <td>189.416667</td>\n",
       "      <td>0.891667</td>\n",
       "      <td>95.250000</td>\n",
       "      <td>286.666667</td>\n",
       "      <td>360.166667</td>\n",
       "    </tr>\n",
       "    <tr>\n",
       "      <th>1</th>\n",
       "      <td>2017-01-01</td>\n",
       "      <td>1</td>\n",
       "      <td>1</td>\n",
       "      <td>2017-01-01</td>\n",
       "      <td>28.125000</td>\n",
       "      <td>30.116667</td>\n",
       "      <td>64.741667</td>\n",
       "      <td>1006.258333</td>\n",
       "      <td>256.416667</td>\n",
       "      <td>0.925000</td>\n",
       "      <td>108.750000</td>\n",
       "      <td>279.000000</td>\n",
       "      <td>363.083333</td>\n",
       "    </tr>\n",
       "    <tr>\n",
       "      <th>2</th>\n",
       "      <td>2017-01-02</td>\n",
       "      <td>1</td>\n",
       "      <td>2</td>\n",
       "      <td>2017-01-02</td>\n",
       "      <td>28.216667</td>\n",
       "      <td>27.316667</td>\n",
       "      <td>63.750000</td>\n",
       "      <td>1006.791667</td>\n",
       "      <td>301.666667</td>\n",
       "      <td>0.875000</td>\n",
       "      <td>124.166667</td>\n",
       "      <td>280.750000</td>\n",
       "      <td>376.583333</td>\n",
       "    </tr>\n",
       "    <tr>\n",
       "      <th>3</th>\n",
       "      <td>2017-01-03</td>\n",
       "      <td>1</td>\n",
       "      <td>3</td>\n",
       "      <td>2017-01-03</td>\n",
       "      <td>28.275000</td>\n",
       "      <td>25.658333</td>\n",
       "      <td>60.783333</td>\n",
       "      <td>1006.766667</td>\n",
       "      <td>173.750000</td>\n",
       "      <td>0.825000</td>\n",
       "      <td>204.250000</td>\n",
       "      <td>262.750000</td>\n",
       "      <td>413.833333</td>\n",
       "    </tr>\n",
       "    <tr>\n",
       "      <th>4</th>\n",
       "      <td>2017-01-04</td>\n",
       "      <td>1</td>\n",
       "      <td>4</td>\n",
       "      <td>2017-01-04</td>\n",
       "      <td>28.250000</td>\n",
       "      <td>26.850000</td>\n",
       "      <td>56.991667</td>\n",
       "      <td>1006.416667</td>\n",
       "      <td>255.166667</td>\n",
       "      <td>1.208333</td>\n",
       "      <td>202.833333</td>\n",
       "      <td>261.666667</td>\n",
       "      <td>412.750000</td>\n",
       "    </tr>\n",
       "  </tbody>\n",
       "</table>\n",
       "</div>"
      ],
      "text/plain": [
       "   Unnamed: 0  MonthPE  DayPE        Date  Daily_Temp  Daily_Precipitation  \\\n",
       "0  2016-12-31       12     31  2016-12-31   28.166667            28.366667   \n",
       "1  2017-01-01        1      1  2017-01-01   28.125000            30.116667   \n",
       "2  2017-01-02        1      2  2017-01-02   28.216667            27.316667   \n",
       "3  2017-01-03        1      3  2017-01-03   28.275000            25.658333   \n",
       "4  2017-01-04        1      4  2017-01-04   28.250000            26.850000   \n",
       "\n",
       "   Daily_Humidity  Daily_Pressure  Daily_WindDir  Daily_WindSpeed   Daily_DNI  \\\n",
       "0       62.025000     1006.733333     189.416667         0.891667   95.250000   \n",
       "1       64.741667     1006.258333     256.416667         0.925000  108.750000   \n",
       "2       63.750000     1006.791667     301.666667         0.875000  124.166667   \n",
       "3       60.783333     1006.766667     173.750000         0.825000  204.250000   \n",
       "4       56.991667     1006.416667     255.166667         1.208333  202.833333   \n",
       "\n",
       "    Daily_DHI  Daily_radiation  \n",
       "0  286.666667       360.166667  \n",
       "1  279.000000       363.083333  \n",
       "2  280.750000       376.583333  \n",
       "3  262.750000       413.833333  \n",
       "4  261.666667       412.750000  "
      ]
     },
     "execution_count": 2,
     "metadata": {},
     "output_type": "execute_result"
    }
   ],
   "source": [
    "data = pd.read_csv('datasets/clean/cleaned_solar_radiation.csv')\n",
    "data.head()"
   ]
  },
  {
   "cell_type": "code",
   "execution_count": 3,
   "id": "da3b9a33-c89a-440e-ab07-40983540f105",
   "metadata": {},
   "outputs": [
    {
     "data": {
      "text/plain": [
       "Index(['Unnamed: 0', 'MonthPE', 'DayPE', 'Date', 'Daily_Temp',\n",
       "       'Daily_Precipitation', 'Daily_Humidity', 'Daily_Pressure',\n",
       "       'Daily_WindDir', 'Daily_WindSpeed', 'Daily_DNI', 'Daily_DHI',\n",
       "       'Daily_radiation'],\n",
       "      dtype='object')"
      ]
     },
     "execution_count": 3,
     "metadata": {},
     "output_type": "execute_result"
    }
   ],
   "source": [
    "data.columns"
   ]
  },
  {
   "cell_type": "code",
   "execution_count": 4,
   "id": "bed4dc7a-5371-456a-baa9-390a44ed7857",
   "metadata": {},
   "outputs": [
    {
     "data": {
      "text/plain": [
       "Index(['Unnamed: 0', 'MonthPE', 'DayPE', 'Date', 'Daily_Temp',\n",
       "       'Daily_Precipitation', 'Daily_Humidity', 'Daily_Pressure',\n",
       "       'Daily_WindDir', 'Daily_WindSpeed', 'Daily_DNI', 'Daily_DHI',\n",
       "       'Daily_radiation'],\n",
       "      dtype='object')"
      ]
     },
     "execution_count": 4,
     "metadata": {},
     "output_type": "execute_result"
    }
   ],
   "source": [
    "data.columns"
   ]
  },
  {
   "cell_type": "code",
   "execution_count": 5,
   "id": "ad9ed2b9-845f-4aae-853a-c3342f2ae550",
   "metadata": {},
   "outputs": [],
   "source": [
    "data = data.drop(['Unnamed: 0', 'Date'], axis =1)"
   ]
  },
  {
   "cell_type": "code",
   "execution_count": 6,
   "id": "28ae42ab-21de-48b6-9037-76de5ce9a280",
   "metadata": {},
   "outputs": [
    {
     "data": {
      "text/plain": [
       "Index(['MonthPE', 'DayPE', 'Daily_Temp', 'Daily_Precipitation',\n",
       "       'Daily_Humidity', 'Daily_Pressure', 'Daily_WindDir', 'Daily_WindSpeed',\n",
       "       'Daily_DNI', 'Daily_DHI', 'Daily_radiation'],\n",
       "      dtype='object')"
      ]
     },
     "execution_count": 6,
     "metadata": {},
     "output_type": "execute_result"
    }
   ],
   "source": [
    "data.columns"
   ]
  },
  {
   "cell_type": "markdown",
   "id": "7f44a632-1196-4e6e-81ec-4af78b3135fe",
   "metadata": {},
   "source": [
    "# Model training and testing and validation"
   ]
  },
  {
   "cell_type": "markdown",
   "id": "2a0cb7a8-9278-4b6d-ace8-4eabae51821d",
   "metadata": {},
   "source": [
    "#### split the dataset into 70% train, 15% test, 15% validation"
   ]
  },
  {
   "cell_type": "code",
   "execution_count": 7,
   "id": "0a69a9ae-04a5-472f-a0ca-e7b0fcbb6a12",
   "metadata": {},
   "outputs": [],
   "source": [
    "train_data, test_data, validation_data = np.split(data.sample(frac=1), [int(.7 *len(data)), int(.85 *len(data))])\n",
    "\n",
    "# save the results into distinctive .csv files\n",
    "train_data.to_csv('~/OneDrive/Documents/DS/Omdena-MlOps/Assignment 4/Solar Radiation Project/datasets/clean/train_data.csv', header=True, index=False)\n",
    "test_data.to_csv('~/OneDrive/Documents/DS/Omdena-MlOps/Assignment 4/Solar Radiation Project/datasets/clean/test_data.csv', header=True, index=False)\n",
    "validation_data.to_csv('~/OneDrive/Documents/DS/Omdena-MlOps/Assignment 4/Solar Radiation Project/datasets/clean/validation_data.csv', header=True, index=False)"
   ]
  },
  {
   "cell_type": "code",
   "execution_count": 8,
   "id": "d30ce228-ab61-4fe2-adf4-f510f4200de4",
   "metadata": {},
   "outputs": [],
   "source": [
    "train_df = pd.read_csv('datasets/clean/train_data.csv')\n",
    "X_train = train_df.drop(['Daily_radiation'], axis=1)\n",
    "y_train = train_df['Daily_radiation']"
   ]
  },
  {
   "cell_type": "code",
   "execution_count": 9,
   "id": "74bac27d-c719-4a6a-8002-67d2d0c6ed08",
   "metadata": {},
   "outputs": [],
   "source": [
    "test_df = pd.read_csv('datasets/clean/test_data.csv')\n",
    "X_test = test_df.drop(['Daily_radiation'], axis=1)\n",
    "y_test = test_df['Daily_radiation']"
   ]
  },
  {
   "cell_type": "markdown",
   "id": "fc0110e1-143d-4779-b07e-96f44f0a2a7f",
   "metadata": {},
   "source": [
    "## Modelling using Linear Regression"
   ]
  },
  {
   "cell_type": "code",
   "execution_count": 10,
   "id": "8d6f5650-c85a-4fe2-a974-7d2100687564",
   "metadata": {},
   "outputs": [],
   "source": [
    "from sklearn.pipeline import Pipeline\n",
    "from sklearn.preprocessing import StandardScaler\n",
    "from sklearn.linear_model import LinearRegression\n",
    "\n",
    "# Setup the pipeline steps\n",
    "steps = [('scaler', StandardScaler()), ('lr', LinearRegression())]\n",
    "\n",
    "# Create the pipeline\n",
    "pipeline_lr = Pipeline(steps)\n",
    "\n",
    "# Fit the pipeline to the train set\n",
    "pipeline_lr.fit(X_train, y_train)\n",
    "\n",
    "# Predict the labels of the test set\n",
    "y_pred_lr = pipeline_lr.predict(X_test)"
   ]
  },
  {
   "cell_type": "markdown",
   "id": "e8d23a04-3e43-4ed0-8020-2c480e5d1663",
   "metadata": {},
   "source": [
    "#### Evaluating Linear Regression performance"
   ]
  },
  {
   "cell_type": "code",
   "execution_count": 11,
   "id": "9c2c5cc3-666b-420d-9e10-db4deb4b3765",
   "metadata": {},
   "outputs": [
    {
     "name": "stdout",
     "output_type": "stream",
     "text": [
      "r2_score 0.9878751354068479\n",
      "Root Mean Squared Error: 3.45\n",
      "Root Mean Absolute Error: 3.01\n"
     ]
    }
   ],
   "source": [
    "from sklearn.metrics import mean_squared_error, mean_absolute_error, r2_score\n",
    "\n",
    "MSE = mean_squared_error(y_test, y_pred_lr, squared=False)\n",
    "MAE = mean_absolute_error(y_test, y_pred_lr)\n",
    "\n",
    "print('r2_score', r2_score(y_test, y_pred_lr))\n",
    "print('Root Mean Squared Error: %.2f' % np.sqrt(MSE))\n",
    "print('Root Mean Absolute Error: %.2f' % np.sqrt(MAE))"
   ]
  },
  {
   "cell_type": "markdown",
   "id": "8f56936b-f8f2-47ee-b69b-aa66b54c130a",
   "metadata": {},
   "source": [
    "#### Plot actual value by predicted value"
   ]
  },
  {
   "cell_type": "code",
   "execution_count": 12,
   "id": "22181887-310f-4dc0-aa28-f5f0d5ebc9ec",
   "metadata": {},
   "outputs": [
    {
     "data": {
      "text/plain": [
       "<Figure size 576x432 with 0 Axes>"
      ]
     },
     "metadata": {},
     "output_type": "display_data"
    },
    {
     "data": {
      "image/png": "[encoded data removed]",
      "text/plain": [
       "<Figure size 432x288 with 1 Axes>"
      ]
     },
     "metadata": {},
     "output_type": "display_data"
    }
   ],
   "source": [
    "plt.figure(figsize=(8, 6))\n",
    "plt.style.use('fivethirtyeight')\n",
    "\n",
    "fig, pX = plt.subplots()\n",
    "\n",
    "pX.scatter(y_test, y_pred_lr, edgecolors=(0, 0, 0))\n",
    "pX.plot([y_test.min(), y_test.max()], [y_test.min(), y_test.max()], 'm--', lw=3)\n",
    "pX.set_xlabel('Actual solar irradiation')\n",
    "pX.set_ylabel('Predicted solar irradiation')\n",
    "pX.set_title(\" Linear regression: Verified vs Predicted solar irradiation\")\n",
    "plt.show() "
   ]
  },
  {
   "cell_type": "markdown",
   "id": "dfe309df-bb8d-49ff-a541-79e7dd7bbab0",
   "metadata": {},
   "source": [
    "## Modelling using Random Forest Regressor"
   ]
  },
  {
   "cell_type": "code",
   "execution_count": 13,
   "id": "ef324ecb-0245-4394-8ff1-a07af2384818",
   "metadata": {},
   "outputs": [],
   "source": [
    "from sklearn.ensemble import RandomForestRegressor\n",
    "\n",
    "# Setup the pipeline steps: steps\n",
    "steps = [('scaler', StandardScaler()), ('rfr', RandomForestRegressor())]\n",
    "\n",
    "# Create the pipeline: pipeline\n",
    "pipeline_rfr = Pipeline(steps)\n",
    "\n",
    "# Fit the pipeline to the train set\n",
    "pipeline_rfr.fit(X_train, y_train)\n",
    "\n",
    "# Predict the labels of the test set\n",
    "y_pred_rfr = pipeline_rfr.predict(X_test)"
   ]
  },
  {
   "cell_type": "markdown",
   "id": "eed811f8-4a91-47cf-91ad-63dff7818623",
   "metadata": {},
   "source": [
    "#### Evaluating Random Forest performance"
   ]
  },
  {
   "cell_type": "code",
   "execution_count": 14,
   "id": "42c49360-a9fe-4a48-83e9-7b147f9ad2bc",
   "metadata": {},
   "outputs": [
    {
     "name": "stdout",
     "output_type": "stream",
     "text": [
      "r2_score 0.9841972053369032\n",
      "Root Mean Squared Error: 3.69\n",
      "Root Mean Absolute Error: 3.21\n"
     ]
    }
   ],
   "source": [
    "MSE_rf = mean_squared_error(y_test, y_pred_rfr, squared=False)\n",
    "MAE_rf = mean_absolute_error(y_test, y_pred_rfr)\n",
    "\n",
    "print('r2_score', r2_score(y_test, y_pred_rfr))\n",
    "print('Root Mean Squared Error: %.2f' % np.sqrt(MSE_rf))\n",
    "print('Root Mean Absolute Error: %.2f' % np.sqrt(MAE_rf))"
   ]
  },
  {
   "cell_type": "markdown",
   "id": "80305f04-377d-4c7e-a0c6-0baf617092d5",
   "metadata": {},
   "source": [
    "#### Plot actual value by predicted value"
   ]
  },
  {
   "cell_type": "code",
   "execution_count": 15,
   "id": "d3d29df1-b913-47b2-ba2e-973a8935121d",
   "metadata": {},
   "outputs": [
    {
     "data": {
      "image/png": "[encoded data removed]",
      "text/plain": [
       "<Figure size 432x288 with 1 Axes>"
      ]
     },
     "metadata": {},
     "output_type": "display_data"
    }
   ],
   "source": [
    "fig, pX = plt.subplots()\n",
    "\n",
    "pX.scatter(y_test, y_pred_rfr, edgecolors=(0, 0, 0))\n",
    "pX.plot([y_test.min(), y_test.max()], [y_test.min(), y_test.max()], 'm--', lw=3)\n",
    "pX.set_xlabel('Actual solar irradiation')\n",
    "pX.set_ylabel('Predicted solar irradiation')\n",
    "pX.set_title(\" Random Forest: Verified vs Predicted solar irradiation\")\n",
    "plt.show()"
   ]
  },
  {
   "cell_type": "markdown",
   "id": "d45a3561-88c3-4b2f-9ebd-66fa62a3f7d5",
   "metadata": {},
   "source": [
    "## Modelling using GradientBoosting Regressor"
   ]
  },
  {
   "cell_type": "code",
   "execution_count": 16,
   "id": "6b20feb4-f6c6-47bb-afb6-13d1924fb696",
   "metadata": {},
   "outputs": [],
   "source": [
    "from sklearn.ensemble import GradientBoostingRegressor\n",
    "# Setup the pipeline steps: steps\n",
    "steps = [('scaler', StandardScaler()), ('gbr', GradientBoostingRegressor())]\n",
    "\n",
    "# Create the pipeline: pipeline\n",
    "pipeline_gbr = Pipeline(steps)\n",
    "\n",
    "# Fit the pipeline to the train set\n",
    "pipeline_gbr.fit(X_train, y_train)\n",
    "\n",
    "# Predict the labels of the test set\n",
    "y_pred_gbr = pipeline_gbr.predict(X_test)"
   ]
  },
  {
   "cell_type": "markdown",
   "id": "598adc08-fa88-4b9b-b736-66be4f732fbb",
   "metadata": {},
   "source": [
    "#### Evaluating GradientBoosting Regressor performance"
   ]
  },
  {
   "cell_type": "code",
   "execution_count": 17,
   "id": "1ccdceaf-0764-4ccc-a40b-9bf4ca5815e2",
   "metadata": {},
   "outputs": [
    {
     "name": "stdout",
     "output_type": "stream",
     "text": [
      "r2_score 0.9852147836354881\n",
      "Root Mean Squared Error: 3.63\n",
      "Root Mean Absolute Error: 3.12\n"
     ]
    }
   ],
   "source": [
    "MSE_gr = mean_squared_error(y_test, y_pred_gbr, squared=False)\n",
    "MAE_gr = mean_absolute_error(y_test, y_pred_gbr)\n",
    "\n",
    "print('r2_score', r2_score(y_test, y_pred_gbr))\n",
    "print('Root Mean Squared Error: %.2f' % np.sqrt(MSE_gr))\n",
    "print('Root Mean Absolute Error: %.2f' % np.sqrt(MAE_gr))"
   ]
  },
  {
   "cell_type": "markdown",
   "id": "08b6382c-7be5-42ff-97d3-02880018b8c2",
   "metadata": {},
   "source": [
    "#### Plot actual value by predicted value"
   ]
  },
  {
   "cell_type": "code",
   "execution_count": 18,
   "id": "0c2eed2c-0ae3-4691-a189-bb99f4e27838",
   "metadata": {},
   "outputs": [
    {
     "data": {
      "image/png": "[encoded data removed]",
      "text/plain": [
       "<Figure size 432x288 with 1 Axes>"
      ]
     },
     "metadata": {},
     "output_type": "display_data"
    }
   ],
   "source": [
    "fig, pX = plt.subplots()\n",
    "\n",
    "pX.scatter(y_test, y_pred_gbr, edgecolors=(0, 0, 0))\n",
    "pX.plot([y_test.min(), y_test.max()], [y_test.min(), y_test.max()], 'm--', lw=3)\n",
    "pX.set_xlabel('Actual solar irradiation')\n",
    "pX.set_ylabel('Predicted solar irradiation')\n",
    "pX.set_title(\" Gradient Boost: Verified vs Predicted solar irradiation\")\n",
    "plt.show()"
   ]
  },
  {
   "cell_type": "markdown",
   "id": "249564c7-c3e5-4136-be5b-55012fb5d5ba",
   "metadata": {},
   "source": [
    "## Model Validation"
   ]
  },
  {
   "cell_type": "code",
   "execution_count": 19,
   "id": "2ec2cc00-80bb-4a4e-a48d-1d3e24cf6d75",
   "metadata": {},
   "outputs": [],
   "source": [
    "val_df = pd.read_csv('datasets/clean/validation_data.csv')\n",
    "X_val = val_df.drop(['Daily_radiation'], axis =1)\n",
    "y_val = val_df['Daily_radiation']"
   ]
  },
  {
   "cell_type": "markdown",
   "id": "cce6bcb6-938a-4579-a08d-4460a7a1f0f2",
   "metadata": {},
   "source": [
    "### Linear Regresion Validation"
   ]
  },
  {
   "cell_type": "code",
   "execution_count": 20,
   "id": "d79f3b5a-08ad-44ef-a908-78422274d2a8",
   "metadata": {},
   "outputs": [
    {
     "name": "stdout",
     "output_type": "stream",
     "text": [
      "r2_score:  0.9863883902450732\n",
      "Linear Regression - MSE: 3.46\n",
      "Linear Regression - MAE: 3.09\n"
     ]
    }
   ],
   "source": [
    "y_validate_lr = pipeline_lr.predict(X_val)\n",
    "\n",
    "MSE_lr_val = mean_squared_error(y_val, y_validate_lr, squared=False)\n",
    "MAE_lr_val = mean_absolute_error(y_val, y_validate_lr)\n",
    "\n",
    "print('r2_score: ', r2_score(y_val, y_validate_lr))\n",
    "print('Linear Regression - MSE: %.2f' %np.sqrt(MSE_lr_val))\n",
    "print('Linear Regression - MAE: %.2f' % np.sqrt(MAE_lr_val))"
   ]
  },
  {
   "cell_type": "markdown",
   "id": "ea394e96-abf1-444a-b726-74079a0f97a4",
   "metadata": {},
   "source": [
    "### Random Forest Regressor Validation"
   ]
  },
  {
   "cell_type": "code",
   "execution_count": 21,
   "id": "a4a96f6e-888f-40a2-96c1-a5a29746bf22",
   "metadata": {},
   "outputs": [
    {
     "name": "stdout",
     "output_type": "stream",
     "text": [
      "r2_score:  0.9845169890932013\n",
      "Random Forest Regressor - MSE: 3.57\n",
      "Random Forest Regressor - MAE: 3.17\n"
     ]
    }
   ],
   "source": [
    "y_validate_rfr = pipeline_rfr.predict(X_val)\n",
    "\n",
    "MSE_rfr_val = mean_squared_error(y_val, y_validate_rfr, squared=False)\n",
    "MAE_rfr_val = mean_absolute_error(y_val, y_validate_rfr)\n",
    "\n",
    "print('r2_score: ', r2_score(y_val, y_validate_rfr))\n",
    "print('Random Forest Regressor - MSE: %.2f' %np.sqrt(MSE_rfr_val))\n",
    "print('Random Forest Regressor - MAE: %.2f' % np.sqrt(MAE_rfr_val))"
   ]
  },
  {
   "cell_type": "markdown",
   "id": "93103a4f-6bf8-4ef3-af78-32c6756aaac6",
   "metadata": {},
   "source": [
    "### Gradient Boosting Regressor Validation"
   ]
  },
  {
   "cell_type": "code",
   "execution_count": 22,
   "id": "9217a87b-dbc2-4d1d-b8cd-02367fd4c38b",
   "metadata": {},
   "outputs": [
    {
     "name": "stdout",
     "output_type": "stream",
     "text": [
      "r2_score:  0.9838610374067176\n",
      "Gradient Boosting Regressor - MSE: 3.61\n",
      "Gradient Boosting Regressor - MAE: 3.09\n"
     ]
    }
   ],
   "source": [
    "y_validate_gbr = pipeline_gbr.predict(X_val)\n",
    "\n",
    "MSE_gbr_val = mean_squared_error(y_val, y_validate_gbr, squared=False)\n",
    "MAE_gbr_val = mean_absolute_error(y_val, y_validate_gbr)\n",
    "\n",
    "print('r2_score: ', r2_score(y_val, y_validate_gbr))\n",
    "print('Gradient Boosting Regressor - MSE: %.2f' %np.sqrt(MSE_gbr_val))\n",
    "print('Gradient Boosting Regressor - MAE: %.2f' % np.sqrt(MAE_gbr_val))"
   ]
  },
  {
   "cell_type": "code",
   "execution_count": null,
   "id": "6847e13d-b3f7-4371-9889-38811d6ffa6e",
   "metadata": {},
   "outputs": [],
   "source": []
  }
 ],
 "metadata": {
  "kernelspec": {
   "display_name": "Python 3",
   "language": "python",
   "name": "python3"
  },
  "language_info": {
   "codemirror_mode": {
    "name": "ipython",
    "version": 3
   },
   "file_extension": ".py",
   "mimetype": "text/x-python",
   "name": "python",
   "nbconvert_exporter": "python",
   "pygments_lexer": "ipython3",
   "version": "3.8.8"
  }
 },
 "nbformat": 4,
 "nbformat_minor": 5
}
